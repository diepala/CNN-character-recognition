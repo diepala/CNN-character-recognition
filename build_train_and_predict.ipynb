{
 "cells": [
  {
   "cell_type": "markdown",
   "metadata": {},
   "source": [
    "# Final model full stack"
   ]
  },
  {
   "cell_type": "markdown",
   "metadata": {},
   "source": [
    "This notebook contains the full stack of the final model, including:\n",
    "- Read dataset\n",
    "- Preprocess images and labels\n",
    "- Prepare the dataset\n",
    "- Construction of the model\n",
    "- Training models for crossvalidation\n",
    "- Constructing the final model (ensamble)\n",
    "- Predicting test images and writing the results"
   ]
  },
  {
   "cell_type": "markdown",
   "metadata": {},
   "source": [
    "This notebook was developed using the following software versions:\n",
    "- Ubuntu 20.04\n",
    "- python 3.8.5\n",
    "- tensorflow 2.3.1\n",
    "- pandas 1.0.5\n",
    "- numpy 1.17.4\n",
    "- matplotlib 3.1.2"
   ]
  },
  {
   "cell_type": "markdown",
   "metadata": {},
   "source": [
    "### Imports"
   ]
  },
  {
   "cell_type": "code",
   "execution_count": 1,
   "metadata": {},
   "outputs": [],
   "source": [
    "import os\n",
    "import numpy as np\n",
    "import pandas as pd\n",
    "import tensorflow as tf\n",
    "from tensorflow import keras\n",
    "import tensorflow.keras.layers as kls\n",
    "import matplotlib.pyplot as plt"
   ]
  },
  {
   "cell_type": "markdown",
   "metadata": {},
   "source": [
    "### Paths to the data\n",
    "Define the paths containing the train data"
   ]
  },
  {
   "cell_type": "code",
   "execution_count": 2,
   "metadata": {},
   "outputs": [],
   "source": [
    "data_dir = 'trainset/images_train/'\n",
    "labels_path = data_dir + 'data.csv'"
   ]
  },
  {
   "cell_type": "markdown",
   "metadata": {},
   "source": [
    "### Load and process labels\n",
    "Load labels and process them to extract the accent type and the vowel. Also, encode the labels in a numerical format suitable for training."
   ]
  },
  {
   "cell_type": "code",
   "execution_count": 3,
   "metadata": {},
   "outputs": [
    {
     "name": "stdout",
     "output_type": "stream",
     "text": [
      "Processed labels:\n"
     ]
    },
    {
     "data": {
      "text/html": [
       "<div>\n",
       "<style scoped>\n",
       "    .dataframe tbody tr th:only-of-type {\n",
       "        vertical-align: middle;\n",
       "    }\n",
       "\n",
       "    .dataframe tbody tr th {\n",
       "        vertical-align: top;\n",
       "    }\n",
       "\n",
       "    .dataframe thead th {\n",
       "        text-align: right;\n",
       "    }\n",
       "</style>\n",
       "<table border=\"1\" class=\"dataframe\">\n",
       "  <thead>\n",
       "    <tr style=\"text-align: right;\">\n",
       "      <th></th>\n",
       "      <th>id</th>\n",
       "      <th>values</th>\n",
       "      <th>vowels</th>\n",
       "      <th>accents</th>\n",
       "      <th>values_num</th>\n",
       "      <th>vowels_num</th>\n",
       "      <th>accents_num</th>\n",
       "    </tr>\n",
       "  </thead>\n",
       "  <tbody>\n",
       "    <tr>\n",
       "      <th>0</th>\n",
       "      <td>0</td>\n",
       "      <td>oō</td>\n",
       "      <td>o</td>\n",
       "      <td>¯</td>\n",
       "      <td>23</td>\n",
       "      <td>3</td>\n",
       "      <td>5</td>\n",
       "    </tr>\n",
       "    <tr>\n",
       "      <th>1</th>\n",
       "      <td>1</td>\n",
       "      <td>oö</td>\n",
       "      <td>o</td>\n",
       "      <td>¨</td>\n",
       "      <td>21</td>\n",
       "      <td>3</td>\n",
       "      <td>3</td>\n",
       "    </tr>\n",
       "    <tr>\n",
       "      <th>2</th>\n",
       "      <td>2</td>\n",
       "      <td>eê</td>\n",
       "      <td>e</td>\n",
       "      <td>^</td>\n",
       "      <td>10</td>\n",
       "      <td>1</td>\n",
       "      <td>4</td>\n",
       "    </tr>\n",
       "    <tr>\n",
       "      <th>3</th>\n",
       "      <td>3</td>\n",
       "      <td>oó</td>\n",
       "      <td>o</td>\n",
       "      <td>´</td>\n",
       "      <td>20</td>\n",
       "      <td>3</td>\n",
       "      <td>2</td>\n",
       "    </tr>\n",
       "    <tr>\n",
       "      <th>4</th>\n",
       "      <td>4</td>\n",
       "      <td>ii</td>\n",
       "      <td>i</td>\n",
       "      <td></td>\n",
       "      <td>12</td>\n",
       "      <td>2</td>\n",
       "      <td>0</td>\n",
       "    </tr>\n",
       "    <tr>\n",
       "      <th>5</th>\n",
       "      <td>5</td>\n",
       "      <td>eë</td>\n",
       "      <td>e</td>\n",
       "      <td>¨</td>\n",
       "      <td>9</td>\n",
       "      <td>1</td>\n",
       "      <td>3</td>\n",
       "    </tr>\n",
       "    <tr>\n",
       "      <th>6</th>\n",
       "      <td>6</td>\n",
       "      <td>uū</td>\n",
       "      <td>u</td>\n",
       "      <td>¯</td>\n",
       "      <td>29</td>\n",
       "      <td>4</td>\n",
       "      <td>5</td>\n",
       "    </tr>\n",
       "    <tr>\n",
       "      <th>7</th>\n",
       "      <td>7</td>\n",
       "      <td>ii</td>\n",
       "      <td>i</td>\n",
       "      <td></td>\n",
       "      <td>12</td>\n",
       "      <td>2</td>\n",
       "      <td>0</td>\n",
       "    </tr>\n",
       "    <tr>\n",
       "      <th>8</th>\n",
       "      <td>8</td>\n",
       "      <td>eè</td>\n",
       "      <td>e</td>\n",
       "      <td>`</td>\n",
       "      <td>7</td>\n",
       "      <td>1</td>\n",
       "      <td>1</td>\n",
       "    </tr>\n",
       "    <tr>\n",
       "      <th>9</th>\n",
       "      <td>9</td>\n",
       "      <td>oò</td>\n",
       "      <td>o</td>\n",
       "      <td>`</td>\n",
       "      <td>19</td>\n",
       "      <td>3</td>\n",
       "      <td>1</td>\n",
       "    </tr>\n",
       "  </tbody>\n",
       "</table>\n",
       "</div>"
      ],
      "text/plain": [
       "   id values vowels accents values_num vowels_num accents_num\n",
       "0   0    oō      o       ¯         23          3           5\n",
       "1   1     oö      o       ¨         21          3           3\n",
       "2   2     eê      e       ^         10          1           4\n",
       "3   3     oó      o       ´         20          3           2\n",
       "4   4     ii      i                 12          2           0\n",
       "5   5     eë      e       ¨          9          1           3\n",
       "6   6    uū      u       ¯         29          4           5\n",
       "7   7     ii      i                 12          2           0\n",
       "8   8     eè      e       `          7          1           1\n",
       "9   9     oò      o       `         19          3           1"
      ]
     },
     "execution_count": 3,
     "metadata": {},
     "output_type": "execute_result"
    }
   ],
   "source": [
    "# load labels\n",
    "labels_data = pd.read_csv(labels_path)\n",
    "labels_data['values'] = pd.Categorical(labels_data['values'])\n",
    "\n",
    "# add vowels labels\n",
    "labels_data['vowels'] = list(map(lambda s: s[0], labels_data['values']))\n",
    "labels_data['vowels'] = pd.Categorical(labels_data['vowels'])\n",
    "\n",
    "# add accent labels\n",
    "accent_dict = {' ': ['aa', 'ee', 'ii', 'oo', 'uu'],\n",
    "               '`': ['aà', 'eè', 'iì', 'oò', 'uù'],\n",
    "               '´': ['aá', 'eé', 'ií', 'oó', 'uú'],\n",
    "               '¨': ['aä', 'eë', 'iï', 'oö', 'uü'],\n",
    "               '^': ['aâ', 'eê', 'iî', 'oô', 'uû'],\n",
    "               '¯': ['aā', 'eē', 'iı̄', 'oō', 'uū']}\n",
    "def which_accent(s:str):\n",
    "    for k in accent_dict:\n",
    "        if s in accent_dict[k]:\n",
    "            return k\n",
    "    return None\n",
    "\n",
    "labels_data['accents'] = list(map(which_accent, labels_data['values']))\n",
    "labels_data['accents'] = pd.Categorical(labels_data['accents'])\n",
    "\n",
    "# add the labels in numeric format\n",
    "vowel2num = {'a': 0, 'e': 1, 'i':2, 'o': 3, 'u': 4}\n",
    "accent2num = {' ': 0, '`': 1, '´': 2, '¨': 3, '^': 4, '¯': 5}\n",
    "value2num = {'aa':  0, 'aà':  1, 'aá':  2, 'aä':  3, 'aâ':  4, 'aā':  5,\n",
    "             'ee':  6, 'eè':  7, 'eé':  8, 'eë':  9, 'eê': 10, 'eē': 11,\n",
    "             'ii': 12, 'iì': 13, 'ií': 14, 'iï': 15, 'iî': 16, 'iı̄': 17,\n",
    "             'oo': 18, 'oò': 19, 'oó': 20, 'oö': 21, 'oô': 22, 'oō': 23,\n",
    "             'uu': 24, 'uù': 25, 'uú': 26, 'uü': 27, 'uû': 28, 'uū': 29}\n",
    "\n",
    "labels_data['values_num'] = labels_data['values'].map(lambda x: value2num[x])\n",
    "labels_data['vowels_num'] = labels_data['vowels'].map(lambda x: vowel2num[x])\n",
    "labels_data['accents_num'] = labels_data['accents'].map(lambda x: accent2num[x])\n",
    "\n",
    "\n",
    "print('Processed labels:')\n",
    "labels_data.head(10)"
   ]
  },
  {
   "cell_type": "markdown",
   "metadata": {},
   "source": [
    "### Generate a TF dataset with preprocessing"
   ]
  },
  {
   "cell_type": "code",
   "execution_count": 4,
   "metadata": {},
   "outputs": [
    {
     "name": "stdout",
     "output_type": "stream",
     "text": [
      "Example images loaded and preprocessed:\n"
     ]
    },
    {
     "data": {
      "image/png": "[encoded data removed]",
      "text/plain": [
       "<Figure size 432x288 with 6 Axes>"
      ]
     },
     "metadata": {
      "needs_background": "light"
     },
     "output_type": "display_data"
    }
   ],
   "source": [
    "# dataset for labels of vowels and accents\n",
    "ds_labels = tf.data.Dataset.from_tensor_slices({'vowels': labels_data['vowels_num'],\n",
    "                                                'accents': labels_data['accents_num']})\n",
    "\n",
    "# dataset for images\n",
    "ds_images = [data_dir + f'train_image_{i:05d}.png' for i in range(2000)]\n",
    "ds_images = tf.data.Dataset.from_tensor_slices(ds_images)\n",
    "def image_preprocess(image): # image loading pipeline, including preprocessing\n",
    "    image = tf.io.read_file(image)\n",
    "    image = tf.io.decode_png(image, channels=1) # read in black and white\n",
    "    image = tf.image.convert_image_dtype(image, tf.float32) # pixel values between 0 and 1\n",
    "    image = 1 - image # invert colors so background has value 0\n",
    "    image = image / tf.reduce_max(image) # normalize to [0, 1]\n",
    "    image.set_shape([128, 128, 1]) # set shape because it is not automatically infered at compile time. Assume 128x128.\n",
    "    return image\n",
    "ds_images = ds_images.map(image_preprocess)\n",
    "\n",
    "# plot some example image\n",
    "print('Example images loaded and preprocessed:')\n",
    "fig, axes = plt.subplots(2,3)\n",
    "for ax, im in zip(axes.flat, ds_images.take(6)):\n",
    "    im = im.numpy()\n",
    "    ax.imshow(im[...,0], vmin=0, vmax=1, cmap='gray')"
   ]
  },
  {
   "cell_type": "markdown",
   "metadata": {},
   "source": [
    "### Assamble dataset and split it\n",
    "Assable the dataset (images and labels) and make the splits for 5 fold cross validation."
   ]
  },
  {
   "cell_type": "code",
   "execution_count": 5,
   "metadata": {},
   "outputs": [],
   "source": [
    "ds_all = tf.data.Dataset.zip((ds_images, ds_labels))\n",
    "# shuffle, seed 42 for repeatability\n",
    "ds_all = ds_all.shuffle(buffer_size=2000, seed=42, reshuffle_each_iteration=False)\n",
    "\n",
    "#cross validation splits:\n",
    "n_folds = 5\n",
    "ds_vals = [ds_all.shard(n_folds, i) for i in range(n_folds)]\n",
    "ds_trains = []\n",
    "for i in range(n_folds):\n",
    "    dsl = [ds_all.shard(n_folds, j) for j in range(n_folds) if j!=i]\n",
    "    ds = dsl[0]\n",
    "    for j in range(1, n_folds-1):\n",
    "        ds = ds.concatenate(dsl[j])\n",
    "    ds_trains.append(ds.shuffle(2000))"
   ]
  },
  {
   "cell_type": "markdown",
   "metadata": {},
   "source": [
    "### Construction of the models"
   ]
  },
  {
   "cell_type": "code",
   "execution_count": 6,
   "metadata": {
    "scrolled": true
   },
   "outputs": [
    {
     "name": "stdout",
     "output_type": "stream",
     "text": [
      "Model: \"my_model\"\n",
      "__________________________________________________________________________________________________\n",
      "Layer (type)                    Output Shape         Param #     Connected to                     \n",
      "==================================================================================================\n",
      "input_layer (InputLayer)        [(None, 128, 128, 1) 0                                            \n",
      "__________________________________________________________________________________________________\n",
      "conv2d (Conv2D)                 (None, 128, 128, 32) 320         input_layer[0][0]                \n",
      "__________________________________________________________________________________________________\n",
      "batch_normalization (BatchNorma (None, 128, 128, 32) 128         conv2d[0][0]                     \n",
      "__________________________________________________________________________________________________\n",
      "max_pooling2d (MaxPooling2D)    (None, 64, 64, 32)   0           batch_normalization[0][0]        \n",
      "__________________________________________________________________________________________________\n",
      "activation (Activation)         (None, 64, 64, 32)   0           max_pooling2d[0][0]              \n",
      "__________________________________________________________________________________________________\n",
      "conv2d_1 (Conv2D)               (None, 64, 64, 64)   18496       activation[0][0]                 \n",
      "__________________________________________________________________________________________________\n",
      "batch_normalization_1 (BatchNor (None, 64, 64, 64)   256         conv2d_1[0][0]                   \n",
      "__________________________________________________________________________________________________\n",
      "max_pooling2d_1 (MaxPooling2D)  (None, 32, 32, 64)   0           batch_normalization_1[0][0]      \n",
      "__________________________________________________________________________________________________\n",
      "activation_1 (Activation)       (None, 32, 32, 64)   0           max_pooling2d_1[0][0]            \n",
      "__________________________________________________________________________________________________\n",
      "conv2d_2 (Conv2D)               (None, 32, 32, 128)  73856       activation_1[0][0]               \n",
      "__________________________________________________________________________________________________\n",
      "batch_normalization_2 (BatchNor (None, 32, 32, 128)  512         conv2d_2[0][0]                   \n",
      "__________________________________________________________________________________________________\n",
      "max_pooling2d_2 (MaxPooling2D)  (None, 16, 16, 128)  0           batch_normalization_2[0][0]      \n",
      "__________________________________________________________________________________________________\n",
      "activation_2 (Activation)       (None, 16, 16, 128)  0           max_pooling2d_2[0][0]            \n",
      "__________________________________________________________________________________________________\n",
      "conv2d_3 (Conv2D)               (None, 16, 16, 256)  295168      activation_2[0][0]               \n",
      "__________________________________________________________________________________________________\n",
      "batch_normalization_3 (BatchNor (None, 16, 16, 256)  1024        conv2d_3[0][0]                   \n",
      "__________________________________________________________________________________________________\n",
      "max_pooling2d_3 (MaxPooling2D)  (None, 8, 8, 256)    0           batch_normalization_3[0][0]      \n",
      "__________________________________________________________________________________________________\n",
      "activation_3 (Activation)       (None, 8, 8, 256)    0           max_pooling2d_3[0][0]            \n",
      "__________________________________________________________________________________________________\n",
      "conv2d_4 (Conv2D)               (None, 8, 8, 512)    1180160     activation_3[0][0]               \n",
      "__________________________________________________________________________________________________\n",
      "batch_normalization_4 (BatchNor (None, 8, 8, 512)    2048        conv2d_4[0][0]                   \n",
      "__________________________________________________________________________________________________\n",
      "activation_4 (Activation)       (None, 8, 8, 512)    0           batch_normalization_4[0][0]      \n",
      "__________________________________________________________________________________________________\n",
      "global_max_pooling2d (GlobalMax (None, 512)          0           activation_4[0][0]               \n",
      "__________________________________________________________________________________________________\n",
      "dense (Dense)                   (None, 4096)         2101248     global_max_pooling2d[0][0]       \n",
      "__________________________________________________________________________________________________\n",
      "dense_2 (Dense)                 (None, 6)            24582       dense[0][0]                      \n",
      "__________________________________________________________________________________________________\n",
      "dense_1 (Dense)                 (None, 5)            20485       dense[0][0]                      \n",
      "==================================================================================================\n",
      "Total params: 3,718,283\n",
      "Trainable params: 3,716,299\n",
      "Non-trainable params: 1,984\n",
      "__________________________________________________________________________________________________\n",
      "None\n"
     ]
    }
   ],
   "source": [
    "class MyModel(keras.Model):\n",
    "    def __init__(self):\n",
    "        input_shape = (128, 128, 1)\n",
    "        output_shape = (30,)\n",
    "        \n",
    "        self.build_model(input_shape, output_shape)\n",
    "\n",
    "    def build_model(self, input_shape, output_shape):\n",
    "        # Input\n",
    "        input_layer = tf.keras.Input(shape=input_shape, name='input_layer')\n",
    "        x = input_layer\n",
    "        \n",
    "        # model\n",
    "        x = kls.Conv2D(32, 3, padding='same')(x)\n",
    "        x = kls.BatchNormalization()(x)\n",
    "        x = kls.MaxPool2D()(x)\n",
    "        x = kls.Activation('relu')(x)\n",
    "\n",
    "        x = kls.Conv2D(64, 3, padding='same')(x)\n",
    "        x = kls.BatchNormalization()(x)\n",
    "        x = kls.MaxPool2D()(x)\n",
    "        x = kls.Activation('relu')(x)\n",
    "\n",
    "        x = kls.Conv2D(128, 3, padding='same')(x)\n",
    "        x = kls.BatchNormalization()(x)\n",
    "        x = kls.MaxPool2D()(x)\n",
    "        x = kls.Activation('relu')(x)\n",
    "\n",
    "        x = kls.Conv2D(256, 3, padding='same')(x)\n",
    "        x = kls.BatchNormalization()(x)\n",
    "        x = kls.MaxPool2D()(x)\n",
    "        x = kls.Activation('relu')(x)\n",
    "\n",
    "        x = kls.Conv2D(512, 3, padding='same')(x)\n",
    "        x = kls.BatchNormalization()(x)\n",
    "        x = kls.Activation('relu')(x)\n",
    "        \n",
    "        x = kls.GlobalMaxPool2D()(x)\n",
    "        x = kls.Dense(4096, activation='relu')(x)\n",
    "        x1 = kls.Dense(5, activation='softmax')(x) # output for vowels\n",
    "        x2 = kls.Dense(6, activation='softmax')(x) # output for accents\n",
    "        \n",
    "        # create the model\n",
    "        super().__init__(inputs=input_layer, outputs={'vowels':x1, 'accents':x2})\n",
    "        \n",
    "        \n",
    "        \n",
    "models = [MyModel() for i in range(n_folds)]\n",
    "\n",
    "print(models[0].summary())"
   ]
  },
  {
   "cell_type": "markdown",
   "metadata": {},
   "source": [
    "### Compile the models\n",
    "The loss is the sum of the crossentropy of the two heads."
   ]
  },
  {
   "cell_type": "code",
   "execution_count": 7,
   "metadata": {},
   "outputs": [],
   "source": [
    "# loss function:\n",
    "model_loss = tf.losses.SparseCategoricalCrossentropy(from_logits=False, name='values_xent')\n",
    "\n",
    "for model in models:\n",
    "    model.compile(optimizer='adam', loss=model_loss, metrics=['accuracy'])"
   ]
  },
  {
   "cell_type": "markdown",
   "metadata": {},
   "source": [
    "### Training and evaluation of the models"
   ]
  },
  {
   "cell_type": "code",
   "execution_count": 12,
   "metadata": {
    "scrolled": true
   },
   "outputs": [
    {
     "name": "stdout",
     "output_type": "stream",
     "text": [
      "Epoch 1/32\n",
      "50/50 [==============================] - 2s 41ms/step - loss: 5.6082 - dense_2_loss: 3.2862 - dense_1_loss: 2.3220 - dense_2_accuracy: 0.1875 - dense_1_accuracy: 0.3675 - val_loss: 3.9426 - val_dense_2_loss: 1.8065 - val_dense_1_loss: 2.1361 - val_dense_2_accuracy: 0.1775 - val_dense_1_accuracy: 0.1800\n",
      "Epoch 2/32\n",
      "50/50 [==============================] - 2s 36ms/step - loss: 2.3865 - dense_2_loss: 1.6591 - dense_1_loss: 0.7274 - dense_2_accuracy: 0.3219 - dense_1_accuracy: 0.7337 - val_loss: 5.4534 - val_dense_2_loss: 1.9487 - val_dense_1_loss: 3.5046 - val_dense_2_accuracy: 0.1775 - val_dense_1_accuracy: 0.1800\n",
      "Epoch 3/32\n",
      "50/50 [==============================] - 2s 36ms/step - loss: 1.1125 - dense_2_loss: 0.9292 - dense_1_loss: 0.1833 - dense_2_accuracy: 0.6712 - dense_1_accuracy: 0.9463 - val_loss: 7.6395 - val_dense_2_loss: 2.8339 - val_dense_1_loss: 4.8056 - val_dense_2_accuracy: 0.1775 - val_dense_1_accuracy: 0.1800\n",
      "Epoch 4/32\n",
      "50/50 [==============================] - 2s 36ms/step - loss: 0.2104 - dense_2_loss: 0.1785 - dense_1_loss: 0.0319 - dense_2_accuracy: 0.9575 - dense_1_accuracy: 0.9981 - val_loss: 9.9628 - val_dense_2_loss: 4.2503 - val_dense_1_loss: 5.7125 - val_dense_2_accuracy: 0.1775 - val_dense_1_accuracy: 0.1800\n",
      "Epoch 5/32\n",
      "50/50 [==============================] - 2s 36ms/step - loss: 0.0517 - dense_2_loss: 0.0440 - dense_1_loss: 0.0077 - dense_2_accuracy: 0.9881 - dense_1_accuracy: 1.0000 - val_loss: 11.9737 - val_dense_2_loss: 5.3298 - val_dense_1_loss: 6.6439 - val_dense_2_accuracy: 0.1775 - val_dense_1_accuracy: 0.1800\n",
      "Epoch 6/32\n",
      "50/50 [==============================] - 2s 36ms/step - loss: 0.0655 - dense_2_loss: 0.0571 - dense_1_loss: 0.0084 - dense_2_accuracy: 0.9831 - dense_1_accuracy: 0.9987 - val_loss: 13.0604 - val_dense_2_loss: 6.4235 - val_dense_1_loss: 6.6369 - val_dense_2_accuracy: 0.1775 - val_dense_1_accuracy: 0.1800\n",
      "Epoch 7/32\n",
      "50/50 [==============================] - 2s 37ms/step - loss: 0.0199 - dense_2_loss: 0.0162 - dense_1_loss: 0.0037 - dense_2_accuracy: 0.9950 - dense_1_accuracy: 1.0000 - val_loss: 13.0684 - val_dense_2_loss: 6.1530 - val_dense_1_loss: 6.9154 - val_dense_2_accuracy: 0.1775 - val_dense_1_accuracy: 0.1800\n",
      "Epoch 8/32\n",
      "50/50 [==============================] - 2s 36ms/step - loss: 0.0054 - dense_2_loss: 0.0038 - dense_1_loss: 0.0016 - dense_2_accuracy: 0.9994 - dense_1_accuracy: 1.0000 - val_loss: 11.9540 - val_dense_2_loss: 5.8727 - val_dense_1_loss: 6.0813 - val_dense_2_accuracy: 0.1775 - val_dense_1_accuracy: 0.1800\n",
      "Epoch 9/32\n",
      "50/50 [==============================] - 2s 36ms/step - loss: 0.0015 - dense_2_loss: 9.7290e-04 - dense_1_loss: 5.4381e-04 - dense_2_accuracy: 1.0000 - dense_1_accuracy: 1.0000 - val_loss: 9.6891 - val_dense_2_loss: 4.6702 - val_dense_1_loss: 5.0189 - val_dense_2_accuracy: 0.1775 - val_dense_1_accuracy: 0.1800\n",
      "Epoch 10/32\n",
      "50/50 [==============================] - 2s 36ms/step - loss: 9.8321e-04 - dense_2_loss: 5.7518e-04 - dense_1_loss: 4.0803e-04 - dense_2_accuracy: 1.0000 - dense_1_accuracy: 1.0000 - val_loss: 6.5303 - val_dense_2_loss: 3.3355 - val_dense_1_loss: 3.1948 - val_dense_2_accuracy: 0.1975 - val_dense_1_accuracy: 0.1925\n",
      "Epoch 11/32\n",
      "50/50 [==============================] - 2s 36ms/step - loss: 7.3257e-04 - dense_2_loss: 4.1650e-04 - dense_1_loss: 3.1607e-04 - dense_2_accuracy: 1.0000 - dense_1_accuracy: 1.0000 - val_loss: 2.6497 - val_dense_2_loss: 1.3124 - val_dense_1_loss: 1.3373 - val_dense_2_accuracy: 0.4900 - val_dense_1_accuracy: 0.5225\n",
      "Epoch 12/32\n",
      "50/50 [==============================] - 2s 36ms/step - loss: 5.4230e-04 - dense_2_loss: 3.0823e-04 - dense_1_loss: 2.3407e-04 - dense_2_accuracy: 1.0000 - dense_1_accuracy: 1.0000 - val_loss: 0.6057 - val_dense_2_loss: 0.3385 - val_dense_1_loss: 0.2672 - val_dense_2_accuracy: 0.8700 - val_dense_1_accuracy: 0.9150\n",
      "Epoch 13/32\n",
      "50/50 [==============================] - 2s 37ms/step - loss: 5.1740e-04 - dense_2_loss: 2.7825e-04 - dense_1_loss: 2.3915e-04 - dense_2_accuracy: 1.0000 - dense_1_accuracy: 1.0000 - val_loss: 0.1862 - val_dense_2_loss: 0.1297 - val_dense_1_loss: 0.0565 - val_dense_2_accuracy: 0.9550 - val_dense_1_accuracy: 0.9800\n",
      "Epoch 14/32\n",
      "50/50 [==============================] - 2s 35ms/step - loss: 4.1605e-04 - dense_2_loss: 2.4983e-04 - dense_1_loss: 1.6622e-04 - dense_2_accuracy: 1.0000 - dense_1_accuracy: 1.0000 - val_loss: 0.0820 - val_dense_2_loss: 0.0605 - val_dense_1_loss: 0.0215 - val_dense_2_accuracy: 0.9925 - val_dense_1_accuracy: 0.9875\n",
      "Epoch 15/32\n",
      "50/50 [==============================] - 2s 35ms/step - loss: 4.0883e-04 - dense_2_loss: 2.3896e-04 - dense_1_loss: 1.6987e-04 - dense_2_accuracy: 1.0000 - dense_1_accuracy: 1.0000 - val_loss: 0.0604 - val_dense_2_loss: 0.0475 - val_dense_1_loss: 0.0129 - val_dense_2_accuracy: 0.9975 - val_dense_1_accuracy: 0.9950\n",
      "Epoch 16/32\n",
      "50/50 [==============================] - 2s 35ms/step - loss: 2.9821e-04 - dense_2_loss: 1.8180e-04 - dense_1_loss: 1.1640e-04 - dense_2_accuracy: 1.0000 - dense_1_accuracy: 1.0000 - val_loss: 0.0507 - val_dense_2_loss: 0.0472 - val_dense_1_loss: 0.0035 - val_dense_2_accuracy: 0.9975 - val_dense_1_accuracy: 1.0000\n",
      "Epoch 17/32\n",
      "50/50 [==============================] - 2s 37ms/step - loss: 2.8782e-04 - dense_2_loss: 1.8008e-04 - dense_1_loss: 1.0774e-04 - dense_2_accuracy: 1.0000 - dense_1_accuracy: 1.0000 - val_loss: 0.0502 - val_dense_2_loss: 0.0482 - val_dense_1_loss: 0.0020 - val_dense_2_accuracy: 0.9975 - val_dense_1_accuracy: 1.0000\n",
      "Epoch 18/32\n",
      "50/50 [==============================] - 2s 36ms/step - loss: 2.2830e-04 - dense_2_loss: 1.3535e-04 - dense_1_loss: 9.2949e-05 - dense_2_accuracy: 1.0000 - dense_1_accuracy: 1.0000 - val_loss: 0.0492 - val_dense_2_loss: 0.0473 - val_dense_1_loss: 0.0019 - val_dense_2_accuracy: 0.9975 - val_dense_1_accuracy: 1.0000\n",
      "Epoch 19/32\n",
      "50/50 [==============================] - 2s 36ms/step - loss: 2.3876e-04 - dense_2_loss: 1.2810e-04 - dense_1_loss: 1.1066e-04 - dense_2_accuracy: 1.0000 - dense_1_accuracy: 1.0000 - val_loss: 0.0510 - val_dense_2_loss: 0.0503 - val_dense_1_loss: 7.0802e-04 - val_dense_2_accuracy: 0.9975 - val_dense_1_accuracy: 1.0000\n",
      "Epoch 20/32\n",
      "50/50 [==============================] - 2s 37ms/step - loss: 2.0320e-04 - dense_2_loss: 1.1691e-04 - dense_1_loss: 8.6289e-05 - dense_2_accuracy: 1.0000 - dense_1_accuracy: 1.0000 - val_loss: 0.0506 - val_dense_2_loss: 0.0496 - val_dense_1_loss: 9.9515e-04 - val_dense_2_accuracy: 0.9975 - val_dense_1_accuracy: 1.0000\n",
      "Epoch 21/32\n",
      "50/50 [==============================] - 2s 36ms/step - loss: 1.8381e-04 - dense_2_loss: 1.0943e-04 - dense_1_loss: 7.4374e-05 - dense_2_accuracy: 1.0000 - dense_1_accuracy: 1.0000 - val_loss: 0.0504 - val_dense_2_loss: 0.0496 - val_dense_1_loss: 7.8448e-04 - val_dense_2_accuracy: 0.9975 - val_dense_1_accuracy: 1.0000\n",
      "Epoch 22/32\n",
      "50/50 [==============================] - 2s 36ms/step - loss: 1.7905e-04 - dense_2_loss: 1.0325e-04 - dense_1_loss: 7.5799e-05 - dense_2_accuracy: 1.0000 - dense_1_accuracy: 1.0000 - val_loss: 0.0512 - val_dense_2_loss: 0.0507 - val_dense_1_loss: 5.0566e-04 - val_dense_2_accuracy: 0.9975 - val_dense_1_accuracy: 1.0000\n",
      "Epoch 23/32\n",
      "50/50 [==============================] - 2s 36ms/step - loss: 1.6164e-04 - dense_2_loss: 9.5197e-05 - dense_1_loss: 6.6447e-05 - dense_2_accuracy: 1.0000 - dense_1_accuracy: 1.0000 - val_loss: 0.0493 - val_dense_2_loss: 0.0486 - val_dense_1_loss: 6.6448e-04 - val_dense_2_accuracy: 0.9975 - val_dense_1_accuracy: 1.0000\n",
      "Epoch 24/32\n",
      "50/50 [==============================] - 2s 36ms/step - loss: 1.2711e-04 - dense_2_loss: 7.5667e-05 - dense_1_loss: 5.1443e-05 - dense_2_accuracy: 1.0000 - dense_1_accuracy: 1.0000 - val_loss: 0.0499 - val_dense_2_loss: 0.0491 - val_dense_1_loss: 7.3845e-04 - val_dense_2_accuracy: 0.9975 - val_dense_1_accuracy: 1.0000\n",
      "Epoch 25/32\n",
      "50/50 [==============================] - 2s 37ms/step - loss: 1.3729e-04 - dense_2_loss: 8.3762e-05 - dense_1_loss: 5.3524e-05 - dense_2_accuracy: 1.0000 - dense_1_accuracy: 1.0000 - val_loss: 0.0506 - val_dense_2_loss: 0.0496 - val_dense_1_loss: 9.3488e-04 - val_dense_2_accuracy: 0.9975 - val_dense_1_accuracy: 1.0000\n",
      "Epoch 26/32\n",
      "50/50 [==============================] - 2s 37ms/step - loss: 1.1556e-04 - dense_2_loss: 6.4746e-05 - dense_1_loss: 5.0811e-05 - dense_2_accuracy: 1.0000 - dense_1_accuracy: 1.0000 - val_loss: 0.0511 - val_dense_2_loss: 0.0506 - val_dense_1_loss: 5.2971e-04 - val_dense_2_accuracy: 0.9975 - val_dense_1_accuracy: 1.0000\n",
      "Epoch 27/32\n",
      "50/50 [==============================] - 2s 36ms/step - loss: 1.0227e-04 - dense_2_loss: 5.5080e-05 - dense_1_loss: 4.7189e-05 - dense_2_accuracy: 1.0000 - dense_1_accuracy: 1.0000 - val_loss: 0.0510 - val_dense_2_loss: 0.0502 - val_dense_1_loss: 8.0212e-04 - val_dense_2_accuracy: 0.9975 - val_dense_1_accuracy: 1.0000\n",
      "Epoch 28/32\n",
      "50/50 [==============================] - 2s 36ms/step - loss: 1.0902e-04 - dense_2_loss: 6.4655e-05 - dense_1_loss: 4.4366e-05 - dense_2_accuracy: 1.0000 - dense_1_accuracy: 1.0000 - val_loss: 0.0520 - val_dense_2_loss: 0.0514 - val_dense_1_loss: 6.0172e-04 - val_dense_2_accuracy: 0.9975 - val_dense_1_accuracy: 1.0000\n",
      "Epoch 29/32\n",
      "50/50 [==============================] - 2s 36ms/step - loss: 9.0943e-05 - dense_2_loss: 5.1092e-05 - dense_1_loss: 3.9850e-05 - dense_2_accuracy: 1.0000 - dense_1_accuracy: 1.0000 - val_loss: 0.0510 - val_dense_2_loss: 0.0504 - val_dense_1_loss: 6.3852e-04 - val_dense_2_accuracy: 0.9975 - val_dense_1_accuracy: 1.0000\n",
      "Epoch 30/32\n",
      "50/50 [==============================] - 2s 36ms/step - loss: 8.3401e-05 - dense_2_loss: 4.0963e-05 - dense_1_loss: 4.2437e-05 - dense_2_accuracy: 1.0000 - dense_1_accuracy: 1.0000 - val_loss: 0.0524 - val_dense_2_loss: 0.0516 - val_dense_1_loss: 7.7229e-04 - val_dense_2_accuracy: 0.9975 - val_dense_1_accuracy: 1.0000\n",
      "Epoch 31/32\n",
      "50/50 [==============================] - 2s 37ms/step - loss: 7.7200e-05 - dense_2_loss: 3.8239e-05 - dense_1_loss: 3.8961e-05 - dense_2_accuracy: 1.0000 - dense_1_accuracy: 1.0000 - val_loss: 0.0513 - val_dense_2_loss: 0.0507 - val_dense_1_loss: 5.9774e-04 - val_dense_2_accuracy: 0.9975 - val_dense_1_accuracy: 1.0000\n",
      "Epoch 32/32\n",
      "50/50 [==============================] - 2s 36ms/step - loss: 7.8369e-05 - dense_2_loss: 4.2469e-05 - dense_1_loss: 3.5899e-05 - dense_2_accuracy: 1.0000 - dense_1_accuracy: 1.0000 - val_loss: 0.0513 - val_dense_2_loss: 0.0506 - val_dense_1_loss: 6.6019e-04 - val_dense_2_accuracy: 0.9975 - val_dense_1_accuracy: 1.0000\n",
      "25/25 [==============================] - 0s 5ms/step - loss: 0.0513 - dense_2_loss: 0.0506 - dense_1_loss: 6.6019e-04 - dense_2_accuracy: 0.9975 - dense_1_accuracy: 1.0000  \n",
      "Epoch 1/32\n",
      "50/50 [==============================] - 2s 40ms/step - loss: 5.6745 - dense_5_loss: 3.2925 - dense_4_loss: 2.3820 - dense_5_accuracy: 0.2056 - dense_4_accuracy: 0.3650 - val_loss: 4.0527 - val_dense_5_loss: 1.8072 - val_dense_4_loss: 2.2454 - val_dense_5_accuracy: 0.1550 - val_dense_4_accuracy: 0.1850\n",
      "Epoch 2/32\n",
      "50/50 [==============================] - 2s 37ms/step - loss: 2.4070 - dense_5_loss: 1.6844 - dense_4_loss: 0.7226 - dense_5_accuracy: 0.2781 - dense_4_accuracy: 0.6963 - val_loss: 5.8696 - val_dense_5_loss: 1.8867 - val_dense_4_loss: 3.9829 - val_dense_5_accuracy: 0.1650 - val_dense_4_accuracy: 0.1850\n",
      "Epoch 3/32\n",
      "50/50 [==============================] - 2s 36ms/step - loss: 1.0312 - dense_5_loss: 0.8822 - dense_4_loss: 0.1489 - dense_5_accuracy: 0.6619 - dense_4_accuracy: 0.9663 - val_loss: 8.7894 - val_dense_5_loss: 2.9658 - val_dense_4_loss: 5.8236 - val_dense_5_accuracy: 0.1650 - val_dense_4_accuracy: 0.1850\n",
      "Epoch 4/32\n",
      "50/50 [==============================] - 2s 36ms/step - loss: 0.2163 - dense_5_loss: 0.1830 - dense_4_loss: 0.0333 - dense_5_accuracy: 0.9456 - dense_4_accuracy: 0.9962 - val_loss: 11.7077 - val_dense_5_loss: 4.1743 - val_dense_4_loss: 7.5334 - val_dense_5_accuracy: 0.1650 - val_dense_4_accuracy: 0.1850\n",
      "Epoch 5/32\n",
      "50/50 [==============================] - 2s 36ms/step - loss: 0.0720 - dense_5_loss: 0.0606 - dense_4_loss: 0.0114 - dense_5_accuracy: 0.9887 - dense_4_accuracy: 0.9994 - val_loss: 12.6177 - val_dense_5_loss: 5.0537 - val_dense_4_loss: 7.5640 - val_dense_5_accuracy: 0.1650 - val_dense_4_accuracy: 0.1850\n",
      "Epoch 6/32\n",
      "50/50 [==============================] - 2s 37ms/step - loss: 0.0258 - dense_5_loss: 0.0192 - dense_4_loss: 0.0065 - dense_5_accuracy: 0.9962 - dense_4_accuracy: 0.9994 - val_loss: 13.4677 - val_dense_5_loss: 5.6095 - val_dense_4_loss: 7.8582 - val_dense_5_accuracy: 0.1650 - val_dense_4_accuracy: 0.1850\n",
      "Epoch 7/32\n",
      "50/50 [==============================] - 2s 36ms/step - loss: 0.0043 - dense_5_loss: 0.0026 - dense_4_loss: 0.0017 - dense_5_accuracy: 1.0000 - dense_4_accuracy: 1.0000 - val_loss: 13.7201 - val_dense_5_loss: 5.6039 - val_dense_4_loss: 8.1162 - val_dense_5_accuracy: 0.1650 - val_dense_4_accuracy: 0.1850\n",
      "Epoch 8/32\n",
      "50/50 [==============================] - 2s 37ms/step - loss: 0.0013 - dense_5_loss: 8.4406e-04 - dense_4_loss: 4.5256e-04 - dense_5_accuracy: 1.0000 - dense_4_accuracy: 1.0000 - val_loss: 13.1484 - val_dense_5_loss: 5.4464 - val_dense_4_loss: 7.7019 - val_dense_5_accuracy: 0.1650 - val_dense_4_accuracy: 0.1850\n",
      "Epoch 9/32\n",
      "50/50 [==============================] - 2s 36ms/step - loss: 9.1542e-04 - dense_5_loss: 5.8467e-04 - dense_4_loss: 3.3075e-04 - dense_5_accuracy: 1.0000 - dense_4_accuracy: 1.0000 - val_loss: 10.2179 - val_dense_5_loss: 4.0476 - val_dense_4_loss: 6.1703 - val_dense_5_accuracy: 0.1650 - val_dense_4_accuracy: 0.1850\n",
      "Epoch 10/32\n",
      "50/50 [==============================] - 2s 36ms/step - loss: 6.5641e-04 - dense_5_loss: 4.0931e-04 - dense_4_loss: 2.4709e-04 - dense_5_accuracy: 1.0000 - dense_4_accuracy: 1.0000 - val_loss: 6.2329 - val_dense_5_loss: 2.0478 - val_dense_4_loss: 4.1851 - val_dense_5_accuracy: 0.3375 - val_dense_4_accuracy: 0.2200\n",
      "Epoch 11/32\n",
      "50/50 [==============================] - 2s 37ms/step - loss: 5.0147e-04 - dense_5_loss: 3.4767e-04 - dense_4_loss: 1.5379e-04 - dense_5_accuracy: 1.0000 - dense_4_accuracy: 1.0000 - val_loss: 2.6024 - val_dense_5_loss: 0.7578 - val_dense_4_loss: 1.8447 - val_dense_5_accuracy: 0.7350 - val_dense_4_accuracy: 0.5175\n",
      "Epoch 12/32\n",
      "50/50 [==============================] - 2s 36ms/step - loss: 5.3397e-04 - dense_5_loss: 2.8803e-04 - dense_4_loss: 2.4595e-04 - dense_5_accuracy: 1.0000 - dense_4_accuracy: 1.0000 - val_loss: 0.9948 - val_dense_5_loss: 0.2969 - val_dense_4_loss: 0.6979 - val_dense_5_accuracy: 0.8825 - val_dense_4_accuracy: 0.7800\n",
      "Epoch 13/32\n",
      "50/50 [==============================] - 2s 36ms/step - loss: 3.8730e-04 - dense_5_loss: 2.4480e-04 - dense_4_loss: 1.4250e-04 - dense_5_accuracy: 1.0000 - dense_4_accuracy: 1.0000 - val_loss: 0.2370 - val_dense_5_loss: 0.0805 - val_dense_4_loss: 0.1565 - val_dense_5_accuracy: 0.9725 - val_dense_4_accuracy: 0.9400\n",
      "Epoch 14/32\n",
      "50/50 [==============================] - 2s 36ms/step - loss: 3.4404e-04 - dense_5_loss: 1.9861e-04 - dense_4_loss: 1.4543e-04 - dense_5_accuracy: 1.0000 - dense_4_accuracy: 1.0000 - val_loss: 0.0596 - val_dense_5_loss: 0.0411 - val_dense_4_loss: 0.0185 - val_dense_5_accuracy: 0.9875 - val_dense_4_accuracy: 0.9925\n",
      "Epoch 15/32\n",
      "50/50 [==============================] - 2s 37ms/step - loss: 2.6907e-04 - dense_5_loss: 1.6825e-04 - dense_4_loss: 1.0082e-04 - dense_5_accuracy: 1.0000 - dense_4_accuracy: 1.0000 - val_loss: 0.0315 - val_dense_5_loss: 0.0196 - val_dense_4_loss: 0.0119 - val_dense_5_accuracy: 0.9925 - val_dense_4_accuracy: 0.9950\n",
      "Epoch 16/32\n",
      "50/50 [==============================] - 2s 36ms/step - loss: 3.2882e-04 - dense_5_loss: 1.6154e-04 - dense_4_loss: 1.6728e-04 - dense_5_accuracy: 1.0000 - dense_4_accuracy: 1.0000 - val_loss: 0.0291 - val_dense_5_loss: 0.0175 - val_dense_4_loss: 0.0116 - val_dense_5_accuracy: 0.9975 - val_dense_4_accuracy: 0.9925\n",
      "Epoch 17/32\n",
      "50/50 [==============================] - 2s 36ms/step - loss: 2.1510e-04 - dense_5_loss: 1.1279e-04 - dense_4_loss: 1.0231e-04 - dense_5_accuracy: 1.0000 - dense_4_accuracy: 1.0000 - val_loss: 0.0108 - val_dense_5_loss: 0.0082 - val_dense_4_loss: 0.0026 - val_dense_5_accuracy: 0.9975 - val_dense_4_accuracy: 1.0000\n",
      "Epoch 18/32\n",
      "50/50 [==============================] - 2s 36ms/step - loss: 1.8429e-04 - dense_5_loss: 1.0127e-04 - dense_4_loss: 8.3021e-05 - dense_5_accuracy: 1.0000 - dense_4_accuracy: 1.0000 - val_loss: 0.0085 - val_dense_5_loss: 0.0055 - val_dense_4_loss: 0.0030 - val_dense_5_accuracy: 0.9975 - val_dense_4_accuracy: 0.9975\n"
     ]
    },
    {
     "name": "stdout",
     "output_type": "stream",
     "text": [
      "Epoch 19/32\n",
      "50/50 [==============================] - 2s 37ms/step - loss: 1.4683e-04 - dense_5_loss: 7.8049e-05 - dense_4_loss: 6.8778e-05 - dense_5_accuracy: 1.0000 - dense_4_accuracy: 1.0000 - val_loss: 0.0089 - val_dense_5_loss: 0.0054 - val_dense_4_loss: 0.0034 - val_dense_5_accuracy: 0.9975 - val_dense_4_accuracy: 0.9975\n",
      "Epoch 20/32\n",
      "50/50 [==============================] - 2s 36ms/step - loss: 1.5284e-04 - dense_5_loss: 7.4992e-05 - dense_4_loss: 7.7847e-05 - dense_5_accuracy: 1.0000 - dense_4_accuracy: 1.0000 - val_loss: 0.0049 - val_dense_5_loss: 0.0036 - val_dense_4_loss: 0.0012 - val_dense_5_accuracy: 0.9975 - val_dense_4_accuracy: 1.0000\n",
      "Epoch 21/32\n",
      "50/50 [==============================] - 2s 36ms/step - loss: 1.1591e-04 - dense_5_loss: 6.7159e-05 - dense_4_loss: 4.8748e-05 - dense_5_accuracy: 1.0000 - dense_4_accuracy: 1.0000 - val_loss: 0.0062 - val_dense_5_loss: 0.0042 - val_dense_4_loss: 0.0020 - val_dense_5_accuracy: 0.9975 - val_dense_4_accuracy: 1.0000\n",
      "Epoch 22/32\n",
      "50/50 [==============================] - 2s 37ms/step - loss: 1.1391e-04 - dense_5_loss: 6.2782e-05 - dense_4_loss: 5.1129e-05 - dense_5_accuracy: 1.0000 - dense_4_accuracy: 1.0000 - val_loss: 0.0050 - val_dense_5_loss: 0.0038 - val_dense_4_loss: 0.0012 - val_dense_5_accuracy: 0.9975 - val_dense_4_accuracy: 1.0000\n",
      "Epoch 23/32\n",
      "50/50 [==============================] - 2s 36ms/step - loss: 8.6298e-05 - dense_5_loss: 3.8159e-05 - dense_4_loss: 4.8140e-05 - dense_5_accuracy: 1.0000 - dense_4_accuracy: 1.0000 - val_loss: 0.0054 - val_dense_5_loss: 0.0037 - val_dense_4_loss: 0.0016 - val_dense_5_accuracy: 0.9975 - val_dense_4_accuracy: 1.0000\n",
      "Epoch 24/32\n",
      "50/50 [==============================] - 2s 36ms/step - loss: 8.7657e-05 - dense_5_loss: 4.8077e-05 - dense_4_loss: 3.9580e-05 - dense_5_accuracy: 1.0000 - dense_4_accuracy: 1.0000 - val_loss: 0.0063 - val_dense_5_loss: 0.0040 - val_dense_4_loss: 0.0023 - val_dense_5_accuracy: 0.9975 - val_dense_4_accuracy: 1.0000\n",
      "Epoch 25/32\n",
      "50/50 [==============================] - 2s 36ms/step - loss: 9.0019e-05 - dense_5_loss: 3.8552e-05 - dense_4_loss: 5.1468e-05 - dense_5_accuracy: 1.0000 - dense_4_accuracy: 1.0000 - val_loss: 0.0029 - val_dense_5_loss: 0.0013 - val_dense_4_loss: 0.0016 - val_dense_5_accuracy: 1.0000 - val_dense_4_accuracy: 1.0000\n",
      "Epoch 26/32\n",
      "50/50 [==============================] - 2s 36ms/step - loss: 6.0843e-05 - dense_5_loss: 3.1091e-05 - dense_4_loss: 2.9752e-05 - dense_5_accuracy: 1.0000 - dense_4_accuracy: 1.0000 - val_loss: 0.0037 - val_dense_5_loss: 0.0019 - val_dense_4_loss: 0.0018 - val_dense_5_accuracy: 1.0000 - val_dense_4_accuracy: 1.0000\n",
      "Epoch 27/32\n",
      "50/50 [==============================] - 2s 37ms/step - loss: 5.7821e-05 - dense_5_loss: 2.5988e-05 - dense_4_loss: 3.1833e-05 - dense_5_accuracy: 1.0000 - dense_4_accuracy: 1.0000 - val_loss: 0.0028 - val_dense_5_loss: 0.0014 - val_dense_4_loss: 0.0013 - val_dense_5_accuracy: 1.0000 - val_dense_4_accuracy: 1.0000\n",
      "Epoch 28/32\n",
      "50/50 [==============================] - 2s 36ms/step - loss: 6.1474e-05 - dense_5_loss: 2.7565e-05 - dense_4_loss: 3.3909e-05 - dense_5_accuracy: 1.0000 - dense_4_accuracy: 1.0000 - val_loss: 0.0044 - val_dense_5_loss: 0.0024 - val_dense_4_loss: 0.0020 - val_dense_5_accuracy: 0.9975 - val_dense_4_accuracy: 1.0000\n",
      "Epoch 29/32\n",
      "50/50 [==============================] - 2s 36ms/step - loss: 7.4472e-05 - dense_5_loss: 2.7751e-05 - dense_4_loss: 4.6721e-05 - dense_5_accuracy: 1.0000 - dense_4_accuracy: 1.0000 - val_loss: 0.0022 - val_dense_5_loss: 8.0056e-04 - val_dense_4_loss: 0.0014 - val_dense_5_accuracy: 1.0000 - val_dense_4_accuracy: 1.0000\n",
      "Epoch 30/32\n",
      "50/50 [==============================] - 2s 36ms/step - loss: 5.1435e-05 - dense_5_loss: 2.2568e-05 - dense_4_loss: 2.8867e-05 - dense_5_accuracy: 1.0000 - dense_4_accuracy: 1.0000 - val_loss: 0.0032 - val_dense_5_loss: 0.0013 - val_dense_4_loss: 0.0019 - val_dense_5_accuracy: 1.0000 - val_dense_4_accuracy: 1.0000\n",
      "Epoch 31/32\n",
      "50/50 [==============================] - 2s 36ms/step - loss: 4.4130e-05 - dense_5_loss: 1.9375e-05 - dense_4_loss: 2.4756e-05 - dense_5_accuracy: 1.0000 - dense_4_accuracy: 1.0000 - val_loss: 0.0033 - val_dense_5_loss: 0.0015 - val_dense_4_loss: 0.0017 - val_dense_5_accuracy: 1.0000 - val_dense_4_accuracy: 1.0000\n",
      "Epoch 32/32\n",
      "50/50 [==============================] - 2s 36ms/step - loss: 4.8317e-05 - dense_5_loss: 1.8183e-05 - dense_4_loss: 3.0134e-05 - dense_5_accuracy: 1.0000 - dense_4_accuracy: 1.0000 - val_loss: 0.0032 - val_dense_5_loss: 0.0016 - val_dense_4_loss: 0.0016 - val_dense_5_accuracy: 1.0000 - val_dense_4_accuracy: 1.0000\n",
      "25/25 [==============================] - 0s 5ms/step - loss: 0.0032 - dense_5_loss: 0.0016 - dense_4_loss: 0.0016 - dense_5_accuracy: 1.0000 - dense_4_accuracy: 1.0000      \n",
      "Epoch 1/32\n",
      "50/50 [==============================] - 2s 40ms/step - loss: 5.8135 - dense_8_loss: 2.1983 - dense_7_loss: 3.6152 - dense_8_accuracy: 0.2019 - dense_7_accuracy: 0.3850 - val_loss: 3.9674 - val_dense_8_loss: 1.7982 - val_dense_7_loss: 2.1692 - val_dense_8_accuracy: 0.2050 - val_dense_7_accuracy: 0.2125\n",
      "Epoch 2/32\n",
      "50/50 [==============================] - 2s 36ms/step - loss: 1.9354 - dense_8_loss: 1.4622 - dense_7_loss: 0.4732 - dense_8_accuracy: 0.3919 - dense_7_accuracy: 0.8594 - val_loss: 5.1258 - val_dense_8_loss: 1.9934 - val_dense_7_loss: 3.1324 - val_dense_8_accuracy: 0.1850 - val_dense_7_accuracy: 0.2125\n",
      "Epoch 3/32\n",
      "50/50 [==============================] - 2s 36ms/step - loss: 0.6230 - dense_8_loss: 0.5398 - dense_7_loss: 0.0832 - dense_8_accuracy: 0.8069 - dense_7_accuracy: 0.9862 - val_loss: 6.7883 - val_dense_8_loss: 3.0394 - val_dense_7_loss: 3.7488 - val_dense_8_accuracy: 0.1850 - val_dense_7_accuracy: 0.2125\n",
      "Epoch 4/32\n",
      "50/50 [==============================] - 2s 36ms/step - loss: 0.1113 - dense_8_loss: 0.0882 - dense_7_loss: 0.0231 - dense_8_accuracy: 0.9812 - dense_7_accuracy: 0.9944 - val_loss: 8.7708 - val_dense_8_loss: 4.2591 - val_dense_7_loss: 4.5118 - val_dense_8_accuracy: 0.1850 - val_dense_7_accuracy: 0.2125\n",
      "Epoch 5/32\n",
      "50/50 [==============================] - 2s 36ms/step - loss: 0.0218 - dense_8_loss: 0.0171 - dense_7_loss: 0.0047 - dense_8_accuracy: 0.9987 - dense_7_accuracy: 0.9994 - val_loss: 9.4166 - val_dense_8_loss: 4.7702 - val_dense_7_loss: 4.6464 - val_dense_8_accuracy: 0.1850 - val_dense_7_accuracy: 0.2125\n",
      "Epoch 6/32\n",
      "50/50 [==============================] - 2s 36ms/step - loss: 0.0064 - dense_8_loss: 0.0038 - dense_7_loss: 0.0027 - dense_8_accuracy: 1.0000 - dense_7_accuracy: 0.9994 - val_loss: 10.2310 - val_dense_8_loss: 5.3388 - val_dense_7_loss: 4.8922 - val_dense_8_accuracy: 0.1850 - val_dense_7_accuracy: 0.2125\n",
      "Epoch 7/32\n",
      "50/50 [==============================] - 2s 36ms/step - loss: 0.0050 - dense_8_loss: 0.0026 - dense_7_loss: 0.0024 - dense_8_accuracy: 1.0000 - dense_7_accuracy: 1.0000 - val_loss: 10.0327 - val_dense_8_loss: 5.7145 - val_dense_7_loss: 4.3182 - val_dense_8_accuracy: 0.1850 - val_dense_7_accuracy: 0.2125\n",
      "Epoch 8/32\n",
      "50/50 [==============================] - 2s 36ms/step - loss: 0.0027 - dense_8_loss: 0.0017 - dense_7_loss: 0.0011 - dense_8_accuracy: 1.0000 - dense_7_accuracy: 1.0000 - val_loss: 9.2321 - val_dense_8_loss: 5.0819 - val_dense_7_loss: 4.1502 - val_dense_8_accuracy: 0.1850 - val_dense_7_accuracy: 0.2125\n",
      "Epoch 9/32\n",
      "50/50 [==============================] - 2s 36ms/step - loss: 0.0012 - dense_8_loss: 8.2921e-04 - dense_7_loss: 3.2786e-04 - dense_8_accuracy: 1.0000 - dense_7_accuracy: 1.0000 - val_loss: 7.0560 - val_dense_8_loss: 4.0663 - val_dense_7_loss: 2.9897 - val_dense_8_accuracy: 0.1850 - val_dense_7_accuracy: 0.2125\n",
      "Epoch 10/32\n",
      "50/50 [==============================] - 2s 36ms/step - loss: 7.1178e-04 - dense_8_loss: 5.2143e-04 - dense_7_loss: 1.9034e-04 - dense_8_accuracy: 1.0000 - dense_7_accuracy: 1.0000 - val_loss: 4.1676 - val_dense_8_loss: 2.6797 - val_dense_7_loss: 1.4879 - val_dense_8_accuracy: 0.2375 - val_dense_7_accuracy: 0.3875\n",
      "Epoch 11/32\n",
      "50/50 [==============================] - 2s 36ms/step - loss: 5.8578e-04 - dense_8_loss: 3.9977e-04 - dense_7_loss: 1.8600e-04 - dense_8_accuracy: 1.0000 - dense_7_accuracy: 1.0000 - val_loss: 1.4214 - val_dense_8_loss: 1.0332 - val_dense_7_loss: 0.3882 - val_dense_8_accuracy: 0.5975 - val_dense_7_accuracy: 0.8450\n"
     ]
    },
    {
     "name": "stdout",
     "output_type": "stream",
     "text": [
      "Epoch 12/32\n",
      "50/50 [==============================] - 2s 36ms/step - loss: 4.9038e-04 - dense_8_loss: 3.2835e-04 - dense_7_loss: 1.6203e-04 - dense_8_accuracy: 1.0000 - dense_7_accuracy: 1.0000 - val_loss: 0.4263 - val_dense_8_loss: 0.3567 - val_dense_7_loss: 0.0695 - val_dense_8_accuracy: 0.8800 - val_dense_7_accuracy: 0.9825\n",
      "Epoch 13/32\n",
      "50/50 [==============================] - 2s 36ms/step - loss: 4.3904e-04 - dense_8_loss: 2.5768e-04 - dense_7_loss: 1.8136e-04 - dense_8_accuracy: 1.0000 - dense_7_accuracy: 1.0000 - val_loss: 0.1060 - val_dense_8_loss: 0.0914 - val_dense_7_loss: 0.0147 - val_dense_8_accuracy: 0.9675 - val_dense_7_accuracy: 0.9900\n",
      "Epoch 14/32\n",
      "50/50 [==============================] - 2s 36ms/step - loss: 3.5126e-04 - dense_8_loss: 2.2906e-04 - dense_7_loss: 1.2219e-04 - dense_8_accuracy: 1.0000 - dense_7_accuracy: 1.0000 - val_loss: 0.0485 - val_dense_8_loss: 0.0395 - val_dense_7_loss: 0.0090 - val_dense_8_accuracy: 0.9875 - val_dense_7_accuracy: 0.9975\n",
      "Epoch 15/32\n",
      "50/50 [==============================] - 2s 36ms/step - loss: 3.2058e-04 - dense_8_loss: 2.1495e-04 - dense_7_loss: 1.0563e-04 - dense_8_accuracy: 1.0000 - dense_7_accuracy: 1.0000 - val_loss: 0.0218 - val_dense_8_loss: 0.0164 - val_dense_7_loss: 0.0054 - val_dense_8_accuracy: 0.9950 - val_dense_7_accuracy: 0.9975\n",
      "Epoch 16/32\n",
      "50/50 [==============================] - 2s 36ms/step - loss: 2.7534e-04 - dense_8_loss: 1.7912e-04 - dense_7_loss: 9.6221e-05 - dense_8_accuracy: 1.0000 - dense_7_accuracy: 1.0000 - val_loss: 0.0197 - val_dense_8_loss: 0.0158 - val_dense_7_loss: 0.0039 - val_dense_8_accuracy: 0.9950 - val_dense_7_accuracy: 0.9975\n",
      "Epoch 17/32\n",
      "50/50 [==============================] - 2s 36ms/step - loss: 2.1176e-04 - dense_8_loss: 1.3719e-04 - dense_7_loss: 7.4573e-05 - dense_8_accuracy: 1.0000 - dense_7_accuracy: 1.0000 - val_loss: 0.0138 - val_dense_8_loss: 0.0080 - val_dense_7_loss: 0.0057 - val_dense_8_accuracy: 0.9950 - val_dense_7_accuracy: 0.9975\n",
      "Epoch 18/32\n",
      "50/50 [==============================] - 2s 36ms/step - loss: 1.9784e-04 - dense_8_loss: 1.1210e-04 - dense_7_loss: 8.5738e-05 - dense_8_accuracy: 1.0000 - dense_7_accuracy: 1.0000 - val_loss: 0.0129 - val_dense_8_loss: 0.0068 - val_dense_7_loss: 0.0060 - val_dense_8_accuracy: 0.9950 - val_dense_7_accuracy: 0.9975\n",
      "Epoch 19/32\n",
      "50/50 [==============================] - 2s 36ms/step - loss: 1.7099e-04 - dense_8_loss: 9.9384e-05 - dense_7_loss: 7.1608e-05 - dense_8_accuracy: 1.0000 - dense_7_accuracy: 1.0000 - val_loss: 0.0124 - val_dense_8_loss: 0.0079 - val_dense_7_loss: 0.0045 - val_dense_8_accuracy: 0.9950 - val_dense_7_accuracy: 0.9975\n",
      "Epoch 20/32\n",
      "50/50 [==============================] - 2s 36ms/step - loss: 1.7567e-04 - dense_8_loss: 9.7431e-05 - dense_7_loss: 7.8236e-05 - dense_8_accuracy: 1.0000 - dense_7_accuracy: 1.0000 - val_loss: 0.0103 - val_dense_8_loss: 0.0046 - val_dense_7_loss: 0.0056 - val_dense_8_accuracy: 0.9975 - val_dense_7_accuracy: 0.9975\n",
      "Epoch 21/32\n",
      "50/50 [==============================] - 2s 36ms/step - loss: 1.5693e-04 - dense_8_loss: 8.9610e-05 - dense_7_loss: 6.7316e-05 - dense_8_accuracy: 1.0000 - dense_7_accuracy: 1.0000 - val_loss: 0.0104 - val_dense_8_loss: 0.0048 - val_dense_7_loss: 0.0057 - val_dense_8_accuracy: 1.0000 - val_dense_7_accuracy: 0.9975\n",
      "Epoch 22/32\n",
      "50/50 [==============================] - 2s 36ms/step - loss: 1.3857e-04 - dense_8_loss: 7.3229e-05 - dense_7_loss: 6.5344e-05 - dense_8_accuracy: 1.0000 - dense_7_accuracy: 1.0000 - val_loss: 0.0102 - val_dense_8_loss: 0.0052 - val_dense_7_loss: 0.0050 - val_dense_8_accuracy: 1.0000 - val_dense_7_accuracy: 0.9975\n",
      "Epoch 23/32\n",
      "50/50 [==============================] - 2s 36ms/step - loss: 1.1885e-04 - dense_8_loss: 6.9678e-05 - dense_7_loss: 4.9172e-05 - dense_8_accuracy: 1.0000 - dense_7_accuracy: 1.0000 - val_loss: 0.0094 - val_dense_8_loss: 0.0043 - val_dense_7_loss: 0.0051 - val_dense_8_accuracy: 1.0000 - val_dense_7_accuracy: 0.9975\n",
      "Epoch 24/32\n",
      "50/50 [==============================] - 2s 36ms/step - loss: 1.1202e-04 - dense_8_loss: 6.5778e-05 - dense_7_loss: 4.6239e-05 - dense_8_accuracy: 1.0000 - dense_7_accuracy: 1.0000 - val_loss: 0.0097 - val_dense_8_loss: 0.0024 - val_dense_7_loss: 0.0073 - val_dense_8_accuracy: 1.0000 - val_dense_7_accuracy: 0.9975\n",
      "Epoch 25/32\n",
      "50/50 [==============================] - 2s 36ms/step - loss: 1.0187e-04 - dense_8_loss: 4.9546e-05 - dense_7_loss: 5.2320e-05 - dense_8_accuracy: 1.0000 - dense_7_accuracy: 1.0000 - val_loss: 0.0094 - val_dense_8_loss: 0.0031 - val_dense_7_loss: 0.0064 - val_dense_8_accuracy: 1.0000 - val_dense_7_accuracy: 0.9975\n",
      "Epoch 26/32\n",
      "50/50 [==============================] - 2s 37ms/step - loss: 1.6008e-04 - dense_8_loss: 7.2725e-05 - dense_7_loss: 8.7357e-05 - dense_8_accuracy: 1.0000 - dense_7_accuracy: 1.0000 - val_loss: 0.0123 - val_dense_8_loss: 0.0039 - val_dense_7_loss: 0.0084 - val_dense_8_accuracy: 1.0000 - val_dense_7_accuracy: 0.9975\n",
      "Epoch 27/32\n",
      "50/50 [==============================] - 2s 36ms/step - loss: 8.5323e-05 - dense_8_loss: 4.4029e-05 - dense_7_loss: 4.1295e-05 - dense_8_accuracy: 1.0000 - dense_7_accuracy: 1.0000 - val_loss: 0.0087 - val_dense_8_loss: 0.0042 - val_dense_7_loss: 0.0045 - val_dense_8_accuracy: 0.9975 - val_dense_7_accuracy: 0.9975\n",
      "Epoch 28/32\n",
      "50/50 [==============================] - 2s 36ms/step - loss: 7.7383e-05 - dense_8_loss: 3.7218e-05 - dense_7_loss: 4.0165e-05 - dense_8_accuracy: 1.0000 - dense_7_accuracy: 1.0000 - val_loss: 0.0107 - val_dense_8_loss: 0.0038 - val_dense_7_loss: 0.0069 - val_dense_8_accuracy: 0.9975 - val_dense_7_accuracy: 0.9975\n",
      "Epoch 29/32\n",
      "50/50 [==============================] - 2s 36ms/step - loss: 6.8643e-05 - dense_8_loss: 4.1235e-05 - dense_7_loss: 2.7407e-05 - dense_8_accuracy: 1.0000 - dense_7_accuracy: 1.0000 - val_loss: 0.0112 - val_dense_8_loss: 0.0046 - val_dense_7_loss: 0.0066 - val_dense_8_accuracy: 0.9975 - val_dense_7_accuracy: 0.9975\n",
      "Epoch 30/32\n",
      "50/50 [==============================] - 2s 36ms/step - loss: 5.8883e-05 - dense_8_loss: 3.1019e-05 - dense_7_loss: 2.7864e-05 - dense_8_accuracy: 1.0000 - dense_7_accuracy: 1.0000 - val_loss: 0.0092 - val_dense_8_loss: 0.0036 - val_dense_7_loss: 0.0056 - val_dense_8_accuracy: 1.0000 - val_dense_7_accuracy: 0.9975\n",
      "Epoch 31/32\n",
      "50/50 [==============================] - 2s 36ms/step - loss: 6.2611e-05 - dense_8_loss: 2.8335e-05 - dense_7_loss: 3.4276e-05 - dense_8_accuracy: 1.0000 - dense_7_accuracy: 1.0000 - val_loss: 0.0067 - val_dense_8_loss: 0.0046 - val_dense_7_loss: 0.0021 - val_dense_8_accuracy: 0.9975 - val_dense_7_accuracy: 0.9975\n",
      "Epoch 32/32\n",
      "50/50 [==============================] - 2s 36ms/step - loss: 5.7214e-05 - dense_8_loss: 2.5302e-05 - dense_7_loss: 3.1912e-05 - dense_8_accuracy: 1.0000 - dense_7_accuracy: 1.0000 - val_loss: 0.0080 - val_dense_8_loss: 0.0028 - val_dense_7_loss: 0.0052 - val_dense_8_accuracy: 1.0000 - val_dense_7_accuracy: 0.9975\n",
      "25/25 [==============================] - 0s 5ms/step - loss: 0.0080 - dense_8_loss: 0.0028 - dense_7_loss: 0.0052 - dense_8_accuracy: 1.0000 - dense_7_accuracy: 0.9975      \n",
      "Epoch 1/32\n",
      "50/50 [==============================] - 2s 40ms/step - loss: 5.8939 - dense_11_loss: 3.4398 - dense_10_loss: 2.4541 - dense_11_accuracy: 0.1644 - dense_10_accuracy: 0.3619 - val_loss: 4.2263 - val_dense_11_loss: 1.8231 - val_dense_10_loss: 2.4033 - val_dense_11_accuracy: 0.1525 - val_dense_10_accuracy: 0.2200\n",
      "Epoch 2/32\n",
      "50/50 [==============================] - 2s 36ms/step - loss: 2.3922 - dense_11_loss: 1.6525 - dense_10_loss: 0.7397 - dense_11_accuracy: 0.3144 - dense_10_accuracy: 0.7425 - val_loss: 6.3891 - val_dense_11_loss: 1.9531 - val_dense_10_loss: 4.4360 - val_dense_11_accuracy: 0.1725 - val_dense_10_accuracy: 0.2200\n",
      "Epoch 3/32\n",
      "50/50 [==============================] - 2s 36ms/step - loss: 0.9806 - dense_11_loss: 0.8308 - dense_10_loss: 0.1498 - dense_11_accuracy: 0.6837 - dense_10_accuracy: 0.9638 - val_loss: 10.3641 - val_dense_11_loss: 3.1652 - val_dense_10_loss: 7.1989 - val_dense_11_accuracy: 0.1575 - val_dense_10_accuracy: 0.2200\n",
      "Epoch 4/32\n",
      "50/50 [==============================] - 2s 36ms/step - loss: 0.2211 - dense_11_loss: 0.1793 - dense_10_loss: 0.0418 - dense_11_accuracy: 0.9525 - dense_10_accuracy: 0.9937 - val_loss: 13.5480 - val_dense_11_loss: 4.5781 - val_dense_10_loss: 8.9700 - val_dense_11_accuracy: 0.1725 - val_dense_10_accuracy: 0.2200\n",
      "Epoch 5/32\n",
      "50/50 [==============================] - 2s 36ms/step - loss: 0.0440 - dense_11_loss: 0.0348 - dense_10_loss: 0.0092 - dense_11_accuracy: 0.9925 - dense_10_accuracy: 1.0000 - val_loss: 15.9859 - val_dense_11_loss: 5.5874 - val_dense_10_loss: 10.3985 - val_dense_11_accuracy: 0.1725 - val_dense_10_accuracy: 0.2200\n",
      "Epoch 6/32\n",
      "50/50 [==============================] - 2s 36ms/step - loss: 0.0192 - dense_11_loss: 0.0161 - dense_10_loss: 0.0031 - dense_11_accuracy: 0.9975 - dense_10_accuracy: 1.0000 - val_loss: 16.9248 - val_dense_11_loss: 6.3763 - val_dense_10_loss: 10.5485 - val_dense_11_accuracy: 0.1725 - val_dense_10_accuracy: 0.2200\n",
      "Epoch 7/32\n",
      "50/50 [==============================] - 2s 36ms/step - loss: 0.0091 - dense_11_loss: 0.0063 - dense_10_loss: 0.0029 - dense_11_accuracy: 0.9987 - dense_10_accuracy: 1.0000 - val_loss: 16.9662 - val_dense_11_loss: 6.0872 - val_dense_10_loss: 10.8791 - val_dense_11_accuracy: 0.1725 - val_dense_10_accuracy: 0.2200\n",
      "Epoch 8/32\n",
      "50/50 [==============================] - 2s 35ms/step - loss: 0.0026 - dense_11_loss: 0.0018 - dense_10_loss: 7.9375e-04 - dense_11_accuracy: 1.0000 - dense_10_accuracy: 1.0000 - val_loss: 16.7212 - val_dense_11_loss: 6.0674 - val_dense_10_loss: 10.6538 - val_dense_11_accuracy: 0.1725 - val_dense_10_accuracy: 0.2200\n",
      "Epoch 9/32\n",
      "50/50 [==============================] - 2s 36ms/step - loss: 0.0043 - dense_11_loss: 7.5340e-04 - dense_10_loss: 0.0035 - dense_11_accuracy: 1.0000 - dense_10_accuracy: 0.9994 - val_loss: 11.9628 - val_dense_11_loss: 4.0952 - val_dense_10_loss: 7.8676 - val_dense_11_accuracy: 0.1725 - val_dense_10_accuracy: 0.2200\n",
      "Epoch 10/32\n",
      "50/50 [==============================] - 2s 36ms/step - loss: 0.0073 - dense_11_loss: 0.0011 - dense_10_loss: 0.0062 - dense_11_accuracy: 1.0000 - dense_10_accuracy: 0.9994 - val_loss: 9.6430 - val_dense_11_loss: 3.5659 - val_dense_10_loss: 6.0771 - val_dense_11_accuracy: 0.1975 - val_dense_10_accuracy: 0.2300\n",
      "Epoch 11/32\n",
      "50/50 [==============================] - 2s 36ms/step - loss: 0.0044 - dense_11_loss: 0.0018 - dense_10_loss: 0.0026 - dense_11_accuracy: 1.0000 - dense_10_accuracy: 1.0000 - val_loss: 5.3547 - val_dense_11_loss: 1.6932 - val_dense_10_loss: 3.6615 - val_dense_11_accuracy: 0.4500 - val_dense_10_accuracy: 0.3025\n",
      "Epoch 12/32\n",
      "50/50 [==============================] - 2s 36ms/step - loss: 8.3983e-04 - dense_11_loss: 6.6140e-04 - dense_10_loss: 1.7842e-04 - dense_11_accuracy: 1.0000 - dense_10_accuracy: 1.0000 - val_loss: 2.6041 - val_dense_11_loss: 0.7396 - val_dense_10_loss: 1.8645 - val_dense_11_accuracy: 0.7225 - val_dense_10_accuracy: 0.4725\n",
      "Epoch 13/32\n",
      "50/50 [==============================] - 2s 37ms/step - loss: 5.7164e-04 - dense_11_loss: 3.5894e-04 - dense_10_loss: 2.1270e-04 - dense_11_accuracy: 1.0000 - dense_10_accuracy: 1.0000 - val_loss: 0.8031 - val_dense_11_loss: 0.2512 - val_dense_10_loss: 0.5519 - val_dense_11_accuracy: 0.9100 - val_dense_10_accuracy: 0.8000\n",
      "Epoch 14/32\n",
      "50/50 [==============================] - 2s 36ms/step - loss: 4.0875e-04 - dense_11_loss: 2.9189e-04 - dense_10_loss: 1.1686e-04 - dense_11_accuracy: 1.0000 - dense_10_accuracy: 1.0000 - val_loss: 0.1763 - val_dense_11_loss: 0.1071 - val_dense_10_loss: 0.0692 - val_dense_11_accuracy: 0.9575 - val_dense_10_accuracy: 0.9700\n",
      "Epoch 15/32\n",
      "50/50 [==============================] - 2s 36ms/step - loss: 3.0186e-04 - dense_11_loss: 2.1004e-04 - dense_10_loss: 9.1821e-05 - dense_11_accuracy: 1.0000 - dense_10_accuracy: 1.0000 - val_loss: 0.0519 - val_dense_11_loss: 0.0458 - val_dense_10_loss: 0.0061 - val_dense_11_accuracy: 0.9800 - val_dense_10_accuracy: 1.0000\n",
      "Epoch 16/32\n",
      "50/50 [==============================] - 2s 36ms/step - loss: 2.4494e-04 - dense_11_loss: 1.8100e-04 - dense_10_loss: 6.3935e-05 - dense_11_accuracy: 1.0000 - dense_10_accuracy: 1.0000 - val_loss: 0.0397 - val_dense_11_loss: 0.0378 - val_dense_10_loss: 0.0020 - val_dense_11_accuracy: 0.9900 - val_dense_10_accuracy: 1.0000\n",
      "Epoch 17/32\n",
      "50/50 [==============================] - 2s 36ms/step - loss: 2.2601e-04 - dense_11_loss: 1.5955e-04 - dense_10_loss: 6.6466e-05 - dense_11_accuracy: 1.0000 - dense_10_accuracy: 1.0000 - val_loss: 0.0328 - val_dense_11_loss: 0.0324 - val_dense_10_loss: 4.4125e-04 - val_dense_11_accuracy: 0.9875 - val_dense_10_accuracy: 1.0000\n",
      "Epoch 18/32\n",
      "50/50 [==============================] - 2s 36ms/step - loss: 2.1213e-04 - dense_11_loss: 1.4163e-04 - dense_10_loss: 7.0502e-05 - dense_11_accuracy: 1.0000 - dense_10_accuracy: 1.0000 - val_loss: 0.0320 - val_dense_11_loss: 0.0316 - val_dense_10_loss: 4.8266e-04 - val_dense_11_accuracy: 0.9875 - val_dense_10_accuracy: 1.0000\n",
      "Epoch 19/32\n",
      "50/50 [==============================] - 2s 36ms/step - loss: 1.7546e-04 - dense_11_loss: 1.2171e-04 - dense_10_loss: 5.3756e-05 - dense_11_accuracy: 1.0000 - dense_10_accuracy: 1.0000 - val_loss: 0.0329 - val_dense_11_loss: 0.0327 - val_dense_10_loss: 1.8024e-04 - val_dense_11_accuracy: 0.9900 - val_dense_10_accuracy: 1.0000\n",
      "Epoch 20/32\n",
      "50/50 [==============================] - 2s 37ms/step - loss: 1.5749e-04 - dense_11_loss: 1.1390e-04 - dense_10_loss: 4.3599e-05 - dense_11_accuracy: 1.0000 - dense_10_accuracy: 1.0000 - val_loss: 0.0304 - val_dense_11_loss: 0.0303 - val_dense_10_loss: 1.3908e-04 - val_dense_11_accuracy: 0.9875 - val_dense_10_accuracy: 1.0000\n",
      "Epoch 21/32\n",
      "50/50 [==============================] - 2s 36ms/step - loss: 1.4372e-04 - dense_11_loss: 9.5030e-05 - dense_10_loss: 4.8691e-05 - dense_11_accuracy: 1.0000 - dense_10_accuracy: 1.0000 - val_loss: 0.0330 - val_dense_11_loss: 0.0329 - val_dense_10_loss: 1.4287e-04 - val_dense_11_accuracy: 0.9900 - val_dense_10_accuracy: 1.0000\n",
      "Epoch 22/32\n",
      "50/50 [==============================] - 2s 36ms/step - loss: 1.3906e-04 - dense_11_loss: 9.8105e-05 - dense_10_loss: 4.0953e-05 - dense_11_accuracy: 1.0000 - dense_10_accuracy: 1.0000 - val_loss: 0.0324 - val_dense_11_loss: 0.0322 - val_dense_10_loss: 1.1893e-04 - val_dense_11_accuracy: 0.9900 - val_dense_10_accuracy: 1.0000\n",
      "Epoch 23/32\n",
      "50/50 [==============================] - 2s 36ms/step - loss: 1.2992e-04 - dense_11_loss: 8.1878e-05 - dense_10_loss: 4.8044e-05 - dense_11_accuracy: 1.0000 - dense_10_accuracy: 1.0000 - val_loss: 0.0306 - val_dense_11_loss: 0.0305 - val_dense_10_loss: 1.0886e-04 - val_dense_11_accuracy: 0.9900 - val_dense_10_accuracy: 1.0000\n",
      "Epoch 24/32\n",
      "50/50 [==============================] - 2s 36ms/step - loss: 9.7626e-05 - dense_11_loss: 6.9618e-05 - dense_10_loss: 2.8007e-05 - dense_11_accuracy: 1.0000 - dense_10_accuracy: 1.0000 - val_loss: 0.0322 - val_dense_11_loss: 0.0321 - val_dense_10_loss: 1.0057e-04 - val_dense_11_accuracy: 0.9900 - val_dense_10_accuracy: 1.0000\n",
      "Epoch 25/32\n",
      "50/50 [==============================] - 2s 36ms/step - loss: 9.9600e-05 - dense_11_loss: 6.7350e-05 - dense_10_loss: 3.2251e-05 - dense_11_accuracy: 1.0000 - dense_10_accuracy: 1.0000 - val_loss: 0.0317 - val_dense_11_loss: 0.0316 - val_dense_10_loss: 7.7407e-05 - val_dense_11_accuracy: 0.9900 - val_dense_10_accuracy: 1.0000\n",
      "Epoch 26/32\n",
      "50/50 [==============================] - 2s 36ms/step - loss: 1.0898e-04 - dense_11_loss: 6.6216e-05 - dense_10_loss: 4.2765e-05 - dense_11_accuracy: 1.0000 - dense_10_accuracy: 1.0000 - val_loss: 0.0347 - val_dense_11_loss: 0.0346 - val_dense_10_loss: 8.8918e-05 - val_dense_11_accuracy: 0.9925 - val_dense_10_accuracy: 1.0000\n",
      "Epoch 27/32\n",
      "50/50 [==============================] - 2s 36ms/step - loss: 8.5298e-05 - dense_11_loss: 5.1433e-05 - dense_10_loss: 3.3866e-05 - dense_11_accuracy: 1.0000 - dense_10_accuracy: 1.0000 - val_loss: 0.0323 - val_dense_11_loss: 0.0323 - val_dense_10_loss: 5.3855e-05 - val_dense_11_accuracy: 0.9900 - val_dense_10_accuracy: 1.0000\n",
      "Epoch 28/32\n"
     ]
    },
    {
     "name": "stdout",
     "output_type": "stream",
     "text": [
      "50/50 [==============================] - 2s 36ms/step - loss: 7.9291e-05 - dense_11_loss: 5.5050e-05 - dense_10_loss: 2.4241e-05 - dense_11_accuracy: 1.0000 - dense_10_accuracy: 1.0000 - val_loss: 0.0321 - val_dense_11_loss: 0.0320 - val_dense_10_loss: 7.1514e-05 - val_dense_11_accuracy: 0.9900 - val_dense_10_accuracy: 1.0000\n",
      "Epoch 29/32\n",
      "50/50 [==============================] - 2s 36ms/step - loss: 6.6462e-05 - dense_11_loss: 4.7195e-05 - dense_10_loss: 1.9268e-05 - dense_11_accuracy: 1.0000 - dense_10_accuracy: 1.0000 - val_loss: 0.0333 - val_dense_11_loss: 0.0333 - val_dense_10_loss: 5.9857e-05 - val_dense_11_accuracy: 0.9925 - val_dense_10_accuracy: 1.0000\n",
      "Epoch 30/32\n",
      "50/50 [==============================] - 2s 36ms/step - loss: 6.2693e-05 - dense_11_loss: 4.4381e-05 - dense_10_loss: 1.8312e-05 - dense_11_accuracy: 1.0000 - dense_10_accuracy: 1.0000 - val_loss: 0.0316 - val_dense_11_loss: 0.0316 - val_dense_10_loss: 6.3188e-05 - val_dense_11_accuracy: 0.9900 - val_dense_10_accuracy: 1.0000\n",
      "Epoch 31/32\n",
      "50/50 [==============================] - 2s 36ms/step - loss: 6.3287e-05 - dense_11_loss: 4.2399e-05 - dense_10_loss: 2.0888e-05 - dense_11_accuracy: 1.0000 - dense_10_accuracy: 1.0000 - val_loss: 0.0328 - val_dense_11_loss: 0.0327 - val_dense_10_loss: 6.1682e-05 - val_dense_11_accuracy: 0.9900 - val_dense_10_accuracy: 1.0000\n",
      "Epoch 32/32\n",
      "50/50 [==============================] - 2s 37ms/step - loss: 5.4430e-05 - dense_11_loss: 3.3245e-05 - dense_10_loss: 2.1186e-05 - dense_11_accuracy: 1.0000 - dense_10_accuracy: 1.0000 - val_loss: 0.0355 - val_dense_11_loss: 0.0355 - val_dense_10_loss: 7.0390e-05 - val_dense_11_accuracy: 0.9925 - val_dense_10_accuracy: 1.0000\n",
      "25/25 [==============================] - 0s 5ms/step - loss: 0.0355 - dense_11_loss: 0.0355 - dense_10_loss: 7.0390e-05 - dense_11_accuracy: 0.9925 - dense_10_accuracy: 1.0000\n",
      "Epoch 1/32\n",
      "50/50 [==============================] - 2s 40ms/step - loss: 6.1174 - dense_14_loss: 3.4318 - dense_13_loss: 2.6856 - dense_14_accuracy: 0.1819 - dense_13_accuracy: 0.3063 - val_loss: 3.5368 - val_dense_14_loss: 1.8054 - val_dense_13_loss: 1.7314 - val_dense_14_accuracy: 0.1475 - val_dense_13_accuracy: 0.1575\n",
      "Epoch 2/32\n",
      "50/50 [==============================] - 2s 36ms/step - loss: 2.5153 - dense_14_loss: 1.7277 - dense_13_loss: 0.7876 - dense_14_accuracy: 0.2738 - dense_13_accuracy: 0.7131 - val_loss: 5.8938 - val_dense_14_loss: 1.8282 - val_dense_13_loss: 4.0656 - val_dense_14_accuracy: 0.1725 - val_dense_13_accuracy: 0.1575\n",
      "Epoch 3/32\n",
      "50/50 [==============================] - 2s 36ms/step - loss: 1.3677 - dense_14_loss: 1.2026 - dense_13_loss: 0.1651 - dense_14_accuracy: 0.5063 - dense_13_accuracy: 0.9625 - val_loss: 9.4532 - val_dense_14_loss: 2.7188 - val_dense_13_loss: 6.7344 - val_dense_14_accuracy: 0.1650 - val_dense_13_accuracy: 0.1575\n",
      "Epoch 4/32\n",
      "50/50 [==============================] - 2s 36ms/step - loss: 0.2995 - dense_14_loss: 0.2519 - dense_13_loss: 0.0476 - dense_14_accuracy: 0.9287 - dense_13_accuracy: 0.9887 - val_loss: 12.0595 - val_dense_14_loss: 3.7922 - val_dense_13_loss: 8.2673 - val_dense_14_accuracy: 0.1650 - val_dense_13_accuracy: 0.1575\n",
      "Epoch 5/32\n",
      "50/50 [==============================] - 2s 36ms/step - loss: 0.0463 - dense_14_loss: 0.0361 - dense_13_loss: 0.0102 - dense_14_accuracy: 0.9931 - dense_13_accuracy: 0.9994 - val_loss: 14.5564 - val_dense_14_loss: 4.8750 - val_dense_13_loss: 9.6814 - val_dense_14_accuracy: 0.1650 - val_dense_13_accuracy: 0.1575\n",
      "Epoch 6/32\n",
      "50/50 [==============================] - 2s 36ms/step - loss: 0.0156 - dense_14_loss: 0.0121 - dense_13_loss: 0.0035 - dense_14_accuracy: 0.9987 - dense_13_accuracy: 1.0000 - val_loss: 14.4457 - val_dense_14_loss: 5.3359 - val_dense_13_loss: 9.1098 - val_dense_14_accuracy: 0.1650 - val_dense_13_accuracy: 0.1575\n",
      "Epoch 7/32\n",
      "50/50 [==============================] - 2s 35ms/step - loss: 0.0039 - dense_14_loss: 0.0027 - dense_13_loss: 0.0011 - dense_14_accuracy: 1.0000 - dense_13_accuracy: 1.0000 - val_loss: 14.2635 - val_dense_14_loss: 5.3609 - val_dense_13_loss: 8.9025 - val_dense_14_accuracy: 0.1650 - val_dense_13_accuracy: 0.1575\n",
      "Epoch 8/32\n",
      "50/50 [==============================] - 2s 36ms/step - loss: 0.0019 - dense_14_loss: 0.0012 - dense_13_loss: 6.7021e-04 - dense_14_accuracy: 1.0000 - dense_13_accuracy: 1.0000 - val_loss: 13.0023 - val_dense_14_loss: 4.6409 - val_dense_13_loss: 8.3613 - val_dense_14_accuracy: 0.1650 - val_dense_13_accuracy: 0.1575\n",
      "Epoch 9/32\n",
      "50/50 [==============================] - 2s 36ms/step - loss: 0.0012 - dense_14_loss: 7.3944e-04 - dense_13_loss: 4.6090e-04 - dense_14_accuracy: 1.0000 - dense_13_accuracy: 1.0000 - val_loss: 10.9244 - val_dense_14_loss: 3.8140 - val_dense_13_loss: 7.1105 - val_dense_14_accuracy: 0.1650 - val_dense_13_accuracy: 0.1575\n",
      "Epoch 10/32\n",
      "50/50 [==============================] - 2s 36ms/step - loss: 8.2275e-04 - dense_14_loss: 5.4290e-04 - dense_13_loss: 2.7985e-04 - dense_14_accuracy: 1.0000 - dense_13_accuracy: 1.0000 - val_loss: 7.1403 - val_dense_14_loss: 2.1958 - val_dense_13_loss: 4.9445 - val_dense_14_accuracy: 0.2375 - val_dense_13_accuracy: 0.1600\n",
      "Epoch 11/32\n",
      "50/50 [==============================] - 2s 37ms/step - loss: 7.4900e-04 - dense_14_loss: 5.1144e-04 - dense_13_loss: 2.3755e-04 - dense_14_accuracy: 1.0000 - dense_13_accuracy: 1.0000 - val_loss: 2.4191 - val_dense_14_loss: 0.6551 - val_dense_13_loss: 1.7641 - val_dense_14_accuracy: 0.6900 - val_dense_13_accuracy: 0.3500\n",
      "Epoch 12/32\n",
      "50/50 [==============================] - 2s 36ms/step - loss: 5.2553e-04 - dense_14_loss: 2.9824e-04 - dense_13_loss: 2.2729e-04 - dense_14_accuracy: 1.0000 - dense_13_accuracy: 1.0000 - val_loss: 0.6451 - val_dense_14_loss: 0.1638 - val_dense_13_loss: 0.4813 - val_dense_14_accuracy: 0.9400 - val_dense_13_accuracy: 0.8150\n",
      "Epoch 13/32\n",
      "50/50 [==============================] - 2s 36ms/step - loss: 5.3653e-04 - dense_14_loss: 2.8893e-04 - dense_13_loss: 2.4760e-04 - dense_14_accuracy: 1.0000 - dense_13_accuracy: 1.0000 - val_loss: 0.1105 - val_dense_14_loss: 0.0357 - val_dense_13_loss: 0.0749 - val_dense_14_accuracy: 0.9950 - val_dense_13_accuracy: 0.9825\n",
      "Epoch 14/32\n",
      "50/50 [==============================] - 2s 36ms/step - loss: 3.4845e-04 - dense_14_loss: 2.1512e-04 - dense_13_loss: 1.3333e-04 - dense_14_accuracy: 1.0000 - dense_13_accuracy: 1.0000 - val_loss: 0.0590 - val_dense_14_loss: 0.0238 - val_dense_13_loss: 0.0353 - val_dense_14_accuracy: 0.9950 - val_dense_13_accuracy: 0.9900\n",
      "Epoch 15/32\n",
      "50/50 [==============================] - 2s 36ms/step - loss: 3.1284e-04 - dense_14_loss: 1.9051e-04 - dense_13_loss: 1.2233e-04 - dense_14_accuracy: 1.0000 - dense_13_accuracy: 1.0000 - val_loss: 0.0274 - val_dense_14_loss: 0.0142 - val_dense_13_loss: 0.0132 - val_dense_14_accuracy: 0.9975 - val_dense_13_accuracy: 0.9925\n",
      "Epoch 16/32\n",
      "50/50 [==============================] - 2s 36ms/step - loss: 2.8846e-04 - dense_14_loss: 1.6426e-04 - dense_13_loss: 1.2420e-04 - dense_14_accuracy: 1.0000 - dense_13_accuracy: 1.0000 - val_loss: 0.0183 - val_dense_14_loss: 0.0099 - val_dense_13_loss: 0.0084 - val_dense_14_accuracy: 0.9975 - val_dense_13_accuracy: 0.9975\n",
      "Epoch 17/32\n",
      "50/50 [==============================] - 2s 36ms/step - loss: 2.1109e-04 - dense_14_loss: 1.1146e-04 - dense_13_loss: 9.9633e-05 - dense_14_accuracy: 1.0000 - dense_13_accuracy: 1.0000 - val_loss: 0.0118 - val_dense_14_loss: 0.0085 - val_dense_13_loss: 0.0033 - val_dense_14_accuracy: 0.9975 - val_dense_13_accuracy: 1.0000\n",
      "Epoch 18/32\n",
      "50/50 [==============================] - 2s 36ms/step - loss: 2.0462e-04 - dense_14_loss: 9.5365e-05 - dense_13_loss: 1.0925e-04 - dense_14_accuracy: 1.0000 - dense_13_accuracy: 1.0000 - val_loss: 0.0087 - val_dense_14_loss: 0.0068 - val_dense_13_loss: 0.0019 - val_dense_14_accuracy: 0.9975 - val_dense_13_accuracy: 1.0000\n",
      "Epoch 19/32\n",
      "50/50 [==============================] - 2s 36ms/step - loss: 1.5293e-04 - dense_14_loss: 8.5462e-05 - dense_13_loss: 6.7471e-05 - dense_14_accuracy: 1.0000 - dense_13_accuracy: 1.0000 - val_loss: 0.0076 - val_dense_14_loss: 0.0057 - val_dense_13_loss: 0.0020 - val_dense_14_accuracy: 0.9975 - val_dense_13_accuracy: 1.0000\n",
      "Epoch 20/32\n",
      "50/50 [==============================] - 2s 36ms/step - loss: 1.5482e-04 - dense_14_loss: 6.0796e-05 - dense_13_loss: 9.4020e-05 - dense_14_accuracy: 1.0000 - dense_13_accuracy: 1.0000 - val_loss: 0.0105 - val_dense_14_loss: 0.0086 - val_dense_13_loss: 0.0020 - val_dense_14_accuracy: 0.9975 - val_dense_13_accuracy: 1.0000\n",
      "Epoch 21/32\n",
      "50/50 [==============================] - 2s 36ms/step - loss: 1.4972e-04 - dense_14_loss: 6.9564e-05 - dense_13_loss: 8.0155e-05 - dense_14_accuracy: 1.0000 - dense_13_accuracy: 1.0000 - val_loss: 0.0060 - val_dense_14_loss: 0.0055 - val_dense_13_loss: 4.9908e-04 - val_dense_14_accuracy: 0.9975 - val_dense_13_accuracy: 1.0000\n",
      "Epoch 22/32\n",
      "50/50 [==============================] - 2s 36ms/step - loss: 9.0783e-05 - dense_14_loss: 4.2689e-05 - dense_13_loss: 4.8094e-05 - dense_14_accuracy: 1.0000 - dense_13_accuracy: 1.0000 - val_loss: 0.0068 - val_dense_14_loss: 0.0063 - val_dense_13_loss: 5.4254e-04 - val_dense_14_accuracy: 0.9975 - val_dense_13_accuracy: 1.0000\n",
      "Epoch 23/32\n",
      "50/50 [==============================] - 2s 36ms/step - loss: 1.0608e-04 - dense_14_loss: 4.5171e-05 - dense_13_loss: 6.0909e-05 - dense_14_accuracy: 1.0000 - dense_13_accuracy: 1.0000 - val_loss: 0.0083 - val_dense_14_loss: 0.0073 - val_dense_13_loss: 0.0010 - val_dense_14_accuracy: 0.9975 - val_dense_13_accuracy: 1.0000\n",
      "Epoch 24/32\n",
      "50/50 [==============================] - 2s 36ms/step - loss: 9.1119e-05 - dense_14_loss: 4.2817e-05 - dense_13_loss: 4.8302e-05 - dense_14_accuracy: 1.0000 - dense_13_accuracy: 1.0000 - val_loss: 0.0089 - val_dense_14_loss: 0.0081 - val_dense_13_loss: 8.4053e-04 - val_dense_14_accuracy: 0.9975 - val_dense_13_accuracy: 1.0000\n",
      "Epoch 25/32\n",
      "50/50 [==============================] - 2s 36ms/step - loss: 8.0987e-05 - dense_14_loss: 3.4642e-05 - dense_13_loss: 4.6345e-05 - dense_14_accuracy: 1.0000 - dense_13_accuracy: 1.0000 - val_loss: 0.0098 - val_dense_14_loss: 0.0089 - val_dense_13_loss: 8.6813e-04 - val_dense_14_accuracy: 0.9975 - val_dense_13_accuracy: 1.0000\n",
      "Epoch 26/32\n",
      "50/50 [==============================] - 2s 36ms/step - loss: 1.2846e-04 - dense_14_loss: 3.4007e-05 - dense_13_loss: 9.4449e-05 - dense_14_accuracy: 1.0000 - dense_13_accuracy: 1.0000 - val_loss: 0.0083 - val_dense_14_loss: 0.0080 - val_dense_13_loss: 3.8685e-04 - val_dense_14_accuracy: 0.9975 - val_dense_13_accuracy: 1.0000\n",
      "Epoch 27/32\n",
      "50/50 [==============================] - 2s 36ms/step - loss: 8.7423e-05 - dense_14_loss: 4.2538e-05 - dense_13_loss: 4.4884e-05 - dense_14_accuracy: 1.0000 - dense_13_accuracy: 1.0000 - val_loss: 0.0073 - val_dense_14_loss: 0.0066 - val_dense_13_loss: 7.4489e-04 - val_dense_14_accuracy: 0.9975 - val_dense_13_accuracy: 1.0000\n",
      "Epoch 28/32\n",
      "50/50 [==============================] - 2s 35ms/step - loss: 5.7978e-05 - dense_14_loss: 3.0841e-05 - dense_13_loss: 2.7137e-05 - dense_14_accuracy: 1.0000 - dense_13_accuracy: 1.0000 - val_loss: 0.0083 - val_dense_14_loss: 0.0078 - val_dense_13_loss: 5.2242e-04 - val_dense_14_accuracy: 0.9975 - val_dense_13_accuracy: 1.0000\n",
      "Epoch 29/32\n",
      "50/50 [==============================] - 2s 36ms/step - loss: 6.0744e-05 - dense_14_loss: 3.0054e-05 - dense_13_loss: 3.0690e-05 - dense_14_accuracy: 1.0000 - dense_13_accuracy: 1.0000 - val_loss: 0.0092 - val_dense_14_loss: 0.0088 - val_dense_13_loss: 3.7041e-04 - val_dense_14_accuracy: 0.9975 - val_dense_13_accuracy: 1.0000\n",
      "Epoch 30/32\n",
      "50/50 [==============================] - 2s 35ms/step - loss: 4.6861e-05 - dense_14_loss: 2.3910e-05 - dense_13_loss: 2.2951e-05 - dense_14_accuracy: 1.0000 - dense_13_accuracy: 1.0000 - val_loss: 0.0081 - val_dense_14_loss: 0.0076 - val_dense_13_loss: 4.8960e-04 - val_dense_14_accuracy: 0.9975 - val_dense_13_accuracy: 1.0000\n",
      "Epoch 31/32\n",
      "50/50 [==============================] - 2s 36ms/step - loss: 5.7391e-05 - dense_14_loss: 2.3633e-05 - dense_13_loss: 3.3758e-05 - dense_14_accuracy: 1.0000 - dense_13_accuracy: 1.0000 - val_loss: 0.0081 - val_dense_14_loss: 0.0078 - val_dense_13_loss: 2.7899e-04 - val_dense_14_accuracy: 0.9975 - val_dense_13_accuracy: 1.0000\n",
      "Epoch 32/32\n",
      "50/50 [==============================] - 2s 36ms/step - loss: 4.0892e-05 - dense_14_loss: 2.1540e-05 - dense_13_loss: 1.9352e-05 - dense_14_accuracy: 1.0000 - dense_13_accuracy: 1.0000 - val_loss: 0.0098 - val_dense_14_loss: 0.0094 - val_dense_13_loss: 3.4140e-04 - val_dense_14_accuracy: 0.9975 - val_dense_13_accuracy: 1.0000\n",
      "25/25 [==============================] - 0s 5ms/step - loss: 0.0098 - dense_14_loss: 0.0094 - dense_13_loss: 3.4140e-04 - dense_14_accuracy: 0.9975 - dense_13_accuracy: 1.0000   \n"
     ]
    }
   ],
   "source": [
    "metrics = []\n",
    "for model, ds_train, ds_val in zip(models, ds_trains, ds_vals):\n",
    "    model.fit(ds_train.batch(32), epochs=32, validation_data=ds_val.batch(16))\n",
    "    metrics.append(model.evaluate(ds_val.batch(16)))"
   ]
  },
  {
   "cell_type": "markdown",
   "metadata": {},
   "source": [
    "### Save the models"
   ]
  },
  {
   "cell_type": "code",
   "execution_count": 13,
   "metadata": {},
   "outputs": [
    {
     "name": "stdout",
     "output_type": "stream",
     "text": [
      "WARNING:tensorflow:From /usr/local/lib/python3.6/dist-packages/tensorflow/python/training/tracking/tracking.py:111: Model.state_updates (from tensorflow.python.keras.engine.training) is deprecated and will be removed in a future version.\n",
      "Instructions for updating:\n",
      "This property should not be used in TensorFlow 2.0, as updates are applied automatically.\n",
      "WARNING:tensorflow:From /usr/local/lib/python3.6/dist-packages/tensorflow/python/training/tracking/tracking.py:111: Layer.updates (from tensorflow.python.keras.engine.base_layer) is deprecated and will be removed in a future version.\n",
      "Instructions for updating:\n",
      "This property should not be used in TensorFlow 2.0, as updates are applied automatically.\n",
      "INFO:tensorflow:Assets written to: saved_models/mymodel_fold_0/assets\n",
      "INFO:tensorflow:Assets written to: saved_models/mymodel_fold_1/assets\n",
      "INFO:tensorflow:Assets written to: saved_models/mymodel_fold_2/assets\n",
      "INFO:tensorflow:Assets written to: saved_models/mymodel_fold_3/assets\n",
      "INFO:tensorflow:Assets written to: saved_models/mymodel_fold_4/assets\n"
     ]
    }
   ],
   "source": [
    "# create folder to store the models\n",
    "if not os.path.isdir('saved_models'):\n",
    "    os.mkdir('saved_models')\n",
    "    \n",
    "# save the models\n",
    "for i in range(n_folds):\n",
    "    savepath = f'saved_models/mymodel_fold_{i}'\n",
    "    if os.path.exists(savepath):\n",
    "        print(f\"It already exists the path '{savepath}'. Exiting without saving...\")\n",
    "        break\n",
    "    models[i].save(savepath)"
   ]
  },
  {
   "cell_type": "markdown",
   "metadata": {},
   "source": [
    "### Model performance"
   ]
  },
  {
   "cell_type": "code",
   "execution_count": 53,
   "metadata": {},
   "outputs": [
    {
     "name": "stdout",
     "output_type": "stream",
     "text": [
      "losses = [0.051303714513778687, 0.0031890524551272392, 0.00799492560327053, 0.03552517294883728, 0.009767034091055393]\n",
      "np.mean(losses) = 0.021555979922413825,\n",
      "np.min(losses) = 0.0031890524551272392,\n",
      "np.max(losses) = 0.051303714513778687,\n",
      "np.std(losses, ddof=1) = 0.0208584007643071\n",
      "\n",
      "accuracies = [0.9975, 1.0, 0.9975, 0.9925, 0.9975]\n",
      "np.mean(accuracies) = 0.9970,\n",
      "np.min(accuracies) = 0.9925,\n",
      "np.max(accuracies) = 1.0000,\n",
      "np.std(accuracies, ddof=1) = 0.00274\n"
     ]
    }
   ],
   "source": [
    "# summarize the merics obtained\n",
    "losses = []\n",
    "accuracies = []\n",
    "for m in metrics:\n",
    "    losses.append(m[0])\n",
    "    accuracies.append(m[-2]*m[-1]) # it is a good approximation of the total accuracy\n",
    "print(f'{losses = }')\n",
    "print(f'{np.mean(losses) = },\\n{np.min(losses) = },\\n{np.max(losses) = },\\n{np.std(losses, ddof=1) = }')\n",
    "print()\n",
    "print(f'{accuracies = }')\n",
    "print(f'{np.mean(accuracies) = :.4f},\\n{np.min(accuracies) = :.4f},\\n{np.max(accuracies) = :.4f},\\n{np.std(accuracies, ddof=1) = :.5f}')"
   ]
  },
  {
   "cell_type": "markdown",
   "metadata": {},
   "source": [
    "### Misclassified images\n",
    "Show the missclassified images of the first model"
   ]
  },
  {
   "cell_type": "code",
   "execution_count": 32,
   "metadata": {},
   "outputs": [
    {
     "name": "stdout",
     "output_type": "stream",
     "text": [
      "\n"
     ]
    },
    {
     "data": {
      "image/png": "[encoded data removed]",
      "text/plain": [
       "<Figure size 432x288 with 6 Axes>"
      ]
     },
     "metadata": {
      "needs_background": "light"
     },
     "output_type": "display_data"
    }
   ],
   "source": [
    "y_ = models[0].predict(ds_vals[0].batch(16))\n",
    "for k in y_:\n",
    "    y_[k] = np.argmax(y_[k], axis=1)\n",
    "y_ = tf.data.Dataset.from_tensor_slices(y_)\n",
    "missclassified = tf.data.Dataset.zip((ds_vals[0], y_)).filter(lambda x, y_: x[1]['vowels']!=y_['vowels'] or x[1]['accents']!=y_['accents'])\n",
    "print()\n",
    "\n",
    "fig, axes = plt.subplots(2, 3)\n",
    "for ax, im in zip(axes.flat, missclassified.take(500)):\n",
    "    (im, y), y_ = im\n",
    "    im = im.numpy()\n",
    "    ax.imshow(im[...,0], vmin=0, vmax=1, cmap='gray')\n",
    "    ax.set_title(f\"{y_['vowels'].numpy()}\\n{y_['accents'].numpy()}\")"
   ]
  },
  {
   "cell_type": "markdown",
   "metadata": {},
   "source": [
    "### Load saved models"
   ]
  },
  {
   "cell_type": "code",
   "execution_count": 8,
   "metadata": {},
   "outputs": [],
   "source": [
    "models = []\n",
    "for i in range(n_folds):\n",
    "    savepath = f'saved_models/mymodel_fold_{i}'\n",
    "    models.append(keras.models.load_model(savepath))"
   ]
  },
  {
   "cell_type": "markdown",
   "metadata": {},
   "source": [
    "# Prediction of the test images"
   ]
  },
  {
   "cell_type": "markdown",
   "metadata": {
    "scrolled": false
   },
   "source": [
    "### Paths to the data\n",
    "Define the paths containing the test data"
   ]
  },
  {
   "cell_type": "code",
   "execution_count": 9,
   "metadata": {},
   "outputs": [],
   "source": [
    "data_dir = 'testset/images_test/'\n",
    "n_test_images = 5000"
   ]
  },
  {
   "cell_type": "markdown",
   "metadata": {},
   "source": [
    "### Generate the TF dataset prepared for prediction"
   ]
  },
  {
   "cell_type": "code",
   "execution_count": 10,
   "metadata": {
    "scrolled": true
   },
   "outputs": [
    {
     "name": "stdout",
     "output_type": "stream",
     "text": [
      "Example images loaded and preprocessed:\n"
     ]
    },
    {
     "data": {
      "image/png": "[encoded data removed]",
      "text/plain": [
       "<Figure size 432x288 with 6 Axes>"
      ]
     },
     "metadata": {
      "needs_background": "light"
     },
     "output_type": "display_data"
    }
   ],
   "source": [
    "# dataset for images\n",
    "ds_images = [data_dir + f'test_image_{i:05d}.png' for i in range(n_test_images)]\n",
    "ds_images = tf.data.Dataset.from_tensor_slices(ds_images)\n",
    "ds_images = ds_images.map(image_preprocess) # image_preprocess as defined previously\n",
    "\n",
    "# plot some example image\n",
    "print('Example images loaded and preprocessed:')\n",
    "fig, axes = plt.subplots(2,3)\n",
    "for ax, im in zip(axes.flat, ds_images.take(6)):\n",
    "    im = im.numpy()\n",
    "    ax.imshow(im[...,0], vmin=0, vmax=1, cmap='gray')"
   ]
  },
  {
   "cell_type": "markdown",
   "metadata": {},
   "source": [
    "### Make the predictions\n",
    "Make the predictions with an ensamble of all the trained models. The ensamble is done to reduce variability as make sure that the real accuracy is close to the accuracy obtained in the crossvalidation."
   ]
  },
  {
   "cell_type": "code",
   "execution_count": 11,
   "metadata": {},
   "outputs": [],
   "source": [
    "# Predictions of all models\n",
    "predictions = []\n",
    "for model in models:\n",
    "    predictions.append(model.predict(ds_images.batch(16)))"
   ]
  },
  {
   "cell_type": "code",
   "execution_count": 12,
   "metadata": {},
   "outputs": [],
   "source": [
    "# Make the ensamble\n",
    "vowel_predictions = np.stack([y['vowels'] for y in predictions], axis=0)\n",
    "accent_predictions = np.stack([y['accents'] for y in predictions], axis=0)\n",
    "\n",
    "vowel_predictions = vowel_predictions.mean(axis=0)\n",
    "accent_predictions = accent_predictions.mean(axis=0)\n",
    "\n",
    "vowel_predictions = np.argmax(vowel_predictions, axis=1)\n",
    "accent_predictions = np.argmax(accent_predictions, axis=1)"
   ]
  },
  {
   "cell_type": "markdown",
   "metadata": {},
   "source": [
    "### Decode the predictions"
   ]
  },
  {
   "cell_type": "code",
   "execution_count": 13,
   "metadata": {},
   "outputs": [],
   "source": [
    "encoded_predictions = 6*vowel_predictions + accent_predictions\n",
    "num2value = {v: k for k, v in value2num.items()}\n",
    "\n",
    "@np.vectorize\n",
    "def decode_labels(y):\n",
    "    return num2value[y]\n",
    "\n",
    "decoded_predictions = decode_labels(encoded_predictions)"
   ]
  },
  {
   "cell_type": "markdown",
   "metadata": {},
   "source": [
    "### Save the predictions"
   ]
  },
  {
   "cell_type": "code",
   "execution_count": 14,
   "metadata": {
    "scrolled": true
   },
   "outputs": [
    {
     "name": "stdout",
     "output_type": "stream",
     "text": [
      "        id values\n",
      "0        0     ee\n",
      "1        1     eê\n",
      "2        2     oò\n",
      "3        3     aä\n",
      "4        4    uū\n",
      "...    ...    ...\n",
      "4995  4995    eē\n",
      "4996  4996     iî\n",
      "4997  4997     aâ\n",
      "4998  4998     uu\n",
      "4999  4999     uù\n",
      "\n",
      "[5000 rows x 2 columns]\n"
     ]
    }
   ],
   "source": [
    "df_predictions = pd.DataFrame({'id': np.arange(n_test_images), 'values': decoded_predictions})\n",
    "df_predictions.to_csv('predictions.csv', index=False)\n",
    "print(df_predictions)"
   ]
  },
  {
   "cell_type": "code",
   "execution_count": null,
   "metadata": {},
   "outputs": [],
   "source": []
  },
  {
   "cell_type": "code",
   "execution_count": null,
   "metadata": {},
   "outputs": [],
   "source": []
  }
 ],
 "metadata": {
  "kernelspec": {
   "display_name": "Python 3",
   "language": "python",
   "name": "python3"
  },
  "language_info": {
   "codemirror_mode": {
    "name": "ipython",
    "version": 3
   },
   "file_extension": ".py",
   "mimetype": "text/x-python",
   "name": "python",
   "nbconvert_exporter": "python",
   "pygments_lexer": "ipython3",
   "version": "3.8.5"
  }
 },
 "nbformat": 4,
 "nbformat_minor": 4
}
